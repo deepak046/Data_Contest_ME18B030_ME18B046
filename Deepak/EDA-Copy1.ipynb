{
 "cells": [
  {
   "cell_type": "code",
   "execution_count": 128,
   "metadata": {},
   "outputs": [],
   "source": [
    "import pandas as pd\n",
    "import numpy as np\n",
    "from sklearn.tree import DecisionTreeClassifier\n",
    "from sklearn.ensemble import RandomForestClassifier, AdaBoostClassifier\n",
    "from sklearn import preprocessing\n",
    "from sklearn.model_selection import train_test_split, StratifiedShuffleSplit\n",
    "from sklearn.metrics import matthews_corrcoef\n",
    "import os\n",
    "%matplotlib inline\n",
    "import matplotlib.pyplot as plt\n",
    "np.random.seed(42)"
   ]
  },
  {
   "cell_type": "code",
   "execution_count": 129,
   "metadata": {},
   "outputs": [],
   "source": [
    "VALIDATION = True\n",
    "DATASET = 2\n",
    "train = pd.read_csv(os.path.join(os.getcwd(),f\"Dataset_{DATASET}_Training.csv\"),index_col=0)\n",
    "test = pd.read_csv(os.path.join(os.getcwd(),f\"Dataset_{DATASET}_Testing.csv\"),index_col=0)\n"
   ]
  },
  {
   "cell_type": "code",
   "execution_count": 130,
   "metadata": {
    "scrolled": true
   },
   "outputs": [
    {
     "data": {
      "text/html": [
       "<div>\n",
       "<style scoped>\n",
       "    .dataframe tbody tr th:only-of-type {\n",
       "        vertical-align: middle;\n",
       "    }\n",
       "\n",
       "    .dataframe tbody tr th {\n",
       "        vertical-align: top;\n",
       "    }\n",
       "\n",
       "    .dataframe thead th {\n",
       "        text-align: right;\n",
       "    }\n",
       "</style>\n",
       "<table border=\"1\" class=\"dataframe\">\n",
       "  <thead>\n",
       "    <tr style=\"text-align: right;\">\n",
       "      <th>ID_REF</th>\n",
       "      <th>gene_1</th>\n",
       "      <th>gene_2</th>\n",
       "      <th>gene_3</th>\n",
       "      <th>gene_4</th>\n",
       "      <th>gene_5</th>\n",
       "      <th>gene_6</th>\n",
       "      <th>gene_7</th>\n",
       "      <th>gene_8</th>\n",
       "      <th>gene_9</th>\n",
       "      <th>gene_10</th>\n",
       "      <th>...</th>\n",
       "      <th>gene_54670</th>\n",
       "      <th>gene_54671</th>\n",
       "      <th>gene_54672</th>\n",
       "      <th>gene_54673</th>\n",
       "      <th>gene_54674</th>\n",
       "      <th>gene_54675</th>\n",
       "      <th>CO: 3</th>\n",
       "      <th>CO: 4</th>\n",
       "      <th>CO: 5</th>\n",
       "      <th>CO: 6</th>\n",
       "    </tr>\n",
       "  </thead>\n",
       "  <tbody>\n",
       "    <tr>\n",
       "      <th>Train_001</th>\n",
       "      <td>8.2843</td>\n",
       "      <td>8.7174</td>\n",
       "      <td>8.3019</td>\n",
       "      <td>11.8611</td>\n",
       "      <td>4.6883</td>\n",
       "      <td>9.8524</td>\n",
       "      <td>8.2301</td>\n",
       "      <td>4.8406</td>\n",
       "      <td>7.5667</td>\n",
       "      <td>8.4165</td>\n",
       "      <td>...</td>\n",
       "      <td>6.3546</td>\n",
       "      <td>7.2572</td>\n",
       "      <td>3.6080</td>\n",
       "      <td>3.9483</td>\n",
       "      <td>4.5200</td>\n",
       "      <td>4.5195</td>\n",
       "      <td>0.0</td>\n",
       "      <td>0.0</td>\n",
       "      <td>1.0</td>\n",
       "      <td>1.0</td>\n",
       "    </tr>\n",
       "    <tr>\n",
       "      <th>Train_002</th>\n",
       "      <td>9.0419</td>\n",
       "      <td>8.8729</td>\n",
       "      <td>8.4559</td>\n",
       "      <td>11.2112</td>\n",
       "      <td>5.7059</td>\n",
       "      <td>10.2263</td>\n",
       "      <td>7.9439</td>\n",
       "      <td>4.6463</td>\n",
       "      <td>6.1828</td>\n",
       "      <td>7.0852</td>\n",
       "      <td>...</td>\n",
       "      <td>4.9707</td>\n",
       "      <td>6.4847</td>\n",
       "      <td>5.1648</td>\n",
       "      <td>1.8369</td>\n",
       "      <td>3.8223</td>\n",
       "      <td>3.4288</td>\n",
       "      <td>0.0</td>\n",
       "      <td>0.0</td>\n",
       "      <td>1.0</td>\n",
       "      <td>1.0</td>\n",
       "    </tr>\n",
       "    <tr>\n",
       "      <th>Train_003</th>\n",
       "      <td>7.6171</td>\n",
       "      <td>8.3904</td>\n",
       "      <td>8.1184</td>\n",
       "      <td>11.0341</td>\n",
       "      <td>5.8050</td>\n",
       "      <td>9.5912</td>\n",
       "      <td>6.8044</td>\n",
       "      <td>4.0878</td>\n",
       "      <td>8.1184</td>\n",
       "      <td>7.3179</td>\n",
       "      <td>...</td>\n",
       "      <td>3.9571</td>\n",
       "      <td>6.2647</td>\n",
       "      <td>3.4216</td>\n",
       "      <td>4.7911</td>\n",
       "      <td>5.4910</td>\n",
       "      <td>3.8438</td>\n",
       "      <td>0.0</td>\n",
       "      <td>0.0</td>\n",
       "      <td>0.0</td>\n",
       "      <td>1.0</td>\n",
       "    </tr>\n",
       "    <tr>\n",
       "      <th>Train_004</th>\n",
       "      <td>9.6283</td>\n",
       "      <td>8.3840</td>\n",
       "      <td>9.9061</td>\n",
       "      <td>12.0571</td>\n",
       "      <td>5.1193</td>\n",
       "      <td>10.5774</td>\n",
       "      <td>8.1628</td>\n",
       "      <td>5.3257</td>\n",
       "      <td>5.6398</td>\n",
       "      <td>7.6829</td>\n",
       "      <td>...</td>\n",
       "      <td>4.6561</td>\n",
       "      <td>7.5776</td>\n",
       "      <td>6.2385</td>\n",
       "      <td>4.1413</td>\n",
       "      <td>5.3047</td>\n",
       "      <td>5.4693</td>\n",
       "      <td>0.0</td>\n",
       "      <td>0.0</td>\n",
       "      <td>0.0</td>\n",
       "      <td>1.0</td>\n",
       "    </tr>\n",
       "    <tr>\n",
       "      <th>Train_005</th>\n",
       "      <td>10.1735</td>\n",
       "      <td>9.1585</td>\n",
       "      <td>7.9649</td>\n",
       "      <td>11.0843</td>\n",
       "      <td>5.0119</td>\n",
       "      <td>8.7764</td>\n",
       "      <td>8.1379</td>\n",
       "      <td>3.6227</td>\n",
       "      <td>7.7334</td>\n",
       "      <td>7.6336</td>\n",
       "      <td>...</td>\n",
       "      <td>3.7007</td>\n",
       "      <td>3.8720</td>\n",
       "      <td>3.1052</td>\n",
       "      <td>5.4053</td>\n",
       "      <td>5.3599</td>\n",
       "      <td>2.8328</td>\n",
       "      <td>0.0</td>\n",
       "      <td>0.0</td>\n",
       "      <td>0.0</td>\n",
       "      <td>1.0</td>\n",
       "    </tr>\n",
       "  </tbody>\n",
       "</table>\n",
       "<p>5 rows × 54679 columns</p>\n",
       "</div>"
      ],
      "text/plain": [
       "ID_REF      gene_1  gene_2  gene_3   gene_4  gene_5   gene_6  gene_7  gene_8  \\\n",
       "Train_001   8.2843  8.7174  8.3019  11.8611  4.6883   9.8524  8.2301  4.8406   \n",
       "Train_002   9.0419  8.8729  8.4559  11.2112  5.7059  10.2263  7.9439  4.6463   \n",
       "Train_003   7.6171  8.3904  8.1184  11.0341  5.8050   9.5912  6.8044  4.0878   \n",
       "Train_004   9.6283  8.3840  9.9061  12.0571  5.1193  10.5774  8.1628  5.3257   \n",
       "Train_005  10.1735  9.1585  7.9649  11.0843  5.0119   8.7764  8.1379  3.6227   \n",
       "\n",
       "ID_REF     gene_9  gene_10  ...  gene_54670  gene_54671  gene_54672  \\\n",
       "Train_001  7.5667   8.4165  ...      6.3546      7.2572      3.6080   \n",
       "Train_002  6.1828   7.0852  ...      4.9707      6.4847      5.1648   \n",
       "Train_003  8.1184   7.3179  ...      3.9571      6.2647      3.4216   \n",
       "Train_004  5.6398   7.6829  ...      4.6561      7.5776      6.2385   \n",
       "Train_005  7.7334   7.6336  ...      3.7007      3.8720      3.1052   \n",
       "\n",
       "ID_REF     gene_54673  gene_54674  gene_54675  CO: 3  CO: 4  CO: 5  CO: 6  \n",
       "Train_001      3.9483      4.5200      4.5195    0.0    0.0    1.0    1.0  \n",
       "Train_002      1.8369      3.8223      3.4288    0.0    0.0    1.0    1.0  \n",
       "Train_003      4.7911      5.4910      3.8438    0.0    0.0    0.0    1.0  \n",
       "Train_004      4.1413      5.3047      5.4693    0.0    0.0    0.0    1.0  \n",
       "Train_005      5.4053      5.3599      2.8328    0.0    0.0    0.0    1.0  \n",
       "\n",
       "[5 rows x 54679 columns]"
      ]
     },
     "execution_count": 130,
     "metadata": {},
     "output_type": "execute_result"
    }
   ],
   "source": [
    "train.T.head() "
   ]
  },
  {
   "cell_type": "code",
   "execution_count": 131,
   "metadata": {},
   "outputs": [
    {
     "data": {
      "text/plain": [
       "['CO: 5', 'CO: 6']"
      ]
     },
     "execution_count": 131,
     "metadata": {},
     "output_type": "execute_result"
    }
   ],
   "source": [
    "list(train.T.columns[-2:])"
   ]
  },
  {
   "cell_type": "code",
   "execution_count": 132,
   "metadata": {},
   "outputs": [
    {
     "data": {
      "text/plain": [
       "(340, 54679)"
      ]
     },
     "execution_count": 132,
     "metadata": {},
     "output_type": "execute_result"
    }
   ],
   "source": [
    "train.T.shape"
   ]
  },
  {
   "cell_type": "code",
   "execution_count": 133,
   "metadata": {},
   "outputs": [
    {
     "data": {
      "text/plain": [
       "(214, 54675)"
      ]
     },
     "execution_count": 133,
     "metadata": {},
     "output_type": "execute_result"
    }
   ],
   "source": [
    "test.T.shape"
   ]
  },
  {
   "cell_type": "code",
   "execution_count": 134,
   "metadata": {},
   "outputs": [],
   "source": [
    "train = train.T\n",
    "test = test.T"
   ]
  },
  {
   "cell_type": "code",
   "execution_count": 135,
   "metadata": {},
   "outputs": [
    {
     "data": {
      "text/html": [
       "<div>\n",
       "<style scoped>\n",
       "    .dataframe tbody tr th:only-of-type {\n",
       "        vertical-align: middle;\n",
       "    }\n",
       "\n",
       "    .dataframe tbody tr th {\n",
       "        vertical-align: top;\n",
       "    }\n",
       "\n",
       "    .dataframe thead th {\n",
       "        text-align: right;\n",
       "    }\n",
       "</style>\n",
       "<table border=\"1\" class=\"dataframe\">\n",
       "  <thead>\n",
       "    <tr style=\"text-align: right;\">\n",
       "      <th>ID_REF</th>\n",
       "      <th>gene_2</th>\n",
       "      <th>gene_3</th>\n",
       "      <th>gene_4</th>\n",
       "      <th>gene_5</th>\n",
       "      <th>gene_6</th>\n",
       "      <th>gene_7</th>\n",
       "      <th>gene_8</th>\n",
       "      <th>gene_9</th>\n",
       "      <th>gene_10</th>\n",
       "    </tr>\n",
       "  </thead>\n",
       "  <tbody>\n",
       "    <tr>\n",
       "      <th>Train_001</th>\n",
       "      <td>8.7174</td>\n",
       "      <td>8.3019</td>\n",
       "      <td>11.8611</td>\n",
       "      <td>4.6883</td>\n",
       "      <td>9.8524</td>\n",
       "      <td>8.2301</td>\n",
       "      <td>4.8406</td>\n",
       "      <td>7.5667</td>\n",
       "      <td>8.4165</td>\n",
       "    </tr>\n",
       "    <tr>\n",
       "      <th>Train_002</th>\n",
       "      <td>8.8729</td>\n",
       "      <td>8.4559</td>\n",
       "      <td>11.2112</td>\n",
       "      <td>5.7059</td>\n",
       "      <td>10.2263</td>\n",
       "      <td>7.9439</td>\n",
       "      <td>4.6463</td>\n",
       "      <td>6.1828</td>\n",
       "      <td>7.0852</td>\n",
       "    </tr>\n",
       "    <tr>\n",
       "      <th>Train_003</th>\n",
       "      <td>8.3904</td>\n",
       "      <td>8.1184</td>\n",
       "      <td>11.0341</td>\n",
       "      <td>5.8050</td>\n",
       "      <td>9.5912</td>\n",
       "      <td>6.8044</td>\n",
       "      <td>4.0878</td>\n",
       "      <td>8.1184</td>\n",
       "      <td>7.3179</td>\n",
       "    </tr>\n",
       "    <tr>\n",
       "      <th>Train_004</th>\n",
       "      <td>8.3840</td>\n",
       "      <td>9.9061</td>\n",
       "      <td>12.0571</td>\n",
       "      <td>5.1193</td>\n",
       "      <td>10.5774</td>\n",
       "      <td>8.1628</td>\n",
       "      <td>5.3257</td>\n",
       "      <td>5.6398</td>\n",
       "      <td>7.6829</td>\n",
       "    </tr>\n",
       "    <tr>\n",
       "      <th>Train_005</th>\n",
       "      <td>9.1585</td>\n",
       "      <td>7.9649</td>\n",
       "      <td>11.0843</td>\n",
       "      <td>5.0119</td>\n",
       "      <td>8.7764</td>\n",
       "      <td>8.1379</td>\n",
       "      <td>3.6227</td>\n",
       "      <td>7.7334</td>\n",
       "      <td>7.6336</td>\n",
       "    </tr>\n",
       "    <tr>\n",
       "      <th>...</th>\n",
       "      <td>...</td>\n",
       "      <td>...</td>\n",
       "      <td>...</td>\n",
       "      <td>...</td>\n",
       "      <td>...</td>\n",
       "      <td>...</td>\n",
       "      <td>...</td>\n",
       "      <td>...</td>\n",
       "      <td>...</td>\n",
       "    </tr>\n",
       "    <tr>\n",
       "      <th>Train_336</th>\n",
       "      <td>8.8300</td>\n",
       "      <td>9.9219</td>\n",
       "      <td>11.3773</td>\n",
       "      <td>4.6310</td>\n",
       "      <td>9.2819</td>\n",
       "      <td>8.1767</td>\n",
       "      <td>4.8860</td>\n",
       "      <td>6.2899</td>\n",
       "      <td>7.3783</td>\n",
       "    </tr>\n",
       "    <tr>\n",
       "      <th>Train_337</th>\n",
       "      <td>8.2785</td>\n",
       "      <td>9.2906</td>\n",
       "      <td>11.5624</td>\n",
       "      <td>5.2698</td>\n",
       "      <td>10.1612</td>\n",
       "      <td>8.2234</td>\n",
       "      <td>5.3162</td>\n",
       "      <td>3.4409</td>\n",
       "      <td>7.7313</td>\n",
       "    </tr>\n",
       "    <tr>\n",
       "      <th>Train_338</th>\n",
       "      <td>7.0345</td>\n",
       "      <td>8.2441</td>\n",
       "      <td>11.2367</td>\n",
       "      <td>7.5746</td>\n",
       "      <td>8.1249</td>\n",
       "      <td>7.4169</td>\n",
       "      <td>5.6091</td>\n",
       "      <td>4.3553</td>\n",
       "      <td>6.4326</td>\n",
       "    </tr>\n",
       "    <tr>\n",
       "      <th>Train_339</th>\n",
       "      <td>8.1774</td>\n",
       "      <td>8.8393</td>\n",
       "      <td>11.4165</td>\n",
       "      <td>4.7859</td>\n",
       "      <td>10.7674</td>\n",
       "      <td>8.4230</td>\n",
       "      <td>5.0015</td>\n",
       "      <td>5.4565</td>\n",
       "      <td>8.0588</td>\n",
       "    </tr>\n",
       "    <tr>\n",
       "      <th>Train_340</th>\n",
       "      <td>9.0997</td>\n",
       "      <td>8.8444</td>\n",
       "      <td>12.0237</td>\n",
       "      <td>7.5031</td>\n",
       "      <td>9.9262</td>\n",
       "      <td>8.3326</td>\n",
       "      <td>5.5584</td>\n",
       "      <td>3.6128</td>\n",
       "      <td>8.1243</td>\n",
       "    </tr>\n",
       "  </tbody>\n",
       "</table>\n",
       "<p>340 rows × 9 columns</p>\n",
       "</div>"
      ],
      "text/plain": [
       "ID_REF     gene_2  gene_3   gene_4  gene_5   gene_6  gene_7  gene_8  gene_9  \\\n",
       "Train_001  8.7174  8.3019  11.8611  4.6883   9.8524  8.2301  4.8406  7.5667   \n",
       "Train_002  8.8729  8.4559  11.2112  5.7059  10.2263  7.9439  4.6463  6.1828   \n",
       "Train_003  8.3904  8.1184  11.0341  5.8050   9.5912  6.8044  4.0878  8.1184   \n",
       "Train_004  8.3840  9.9061  12.0571  5.1193  10.5774  8.1628  5.3257  5.6398   \n",
       "Train_005  9.1585  7.9649  11.0843  5.0119   8.7764  8.1379  3.6227  7.7334   \n",
       "...           ...     ...      ...     ...      ...     ...     ...     ...   \n",
       "Train_336  8.8300  9.9219  11.3773  4.6310   9.2819  8.1767  4.8860  6.2899   \n",
       "Train_337  8.2785  9.2906  11.5624  5.2698  10.1612  8.2234  5.3162  3.4409   \n",
       "Train_338  7.0345  8.2441  11.2367  7.5746   8.1249  7.4169  5.6091  4.3553   \n",
       "Train_339  8.1774  8.8393  11.4165  4.7859  10.7674  8.4230  5.0015  5.4565   \n",
       "Train_340  9.0997  8.8444  12.0237  7.5031   9.9262  8.3326  5.5584  3.6128   \n",
       "\n",
       "ID_REF     gene_10  \n",
       "Train_001   8.4165  \n",
       "Train_002   7.0852  \n",
       "Train_003   7.3179  \n",
       "Train_004   7.6829  \n",
       "Train_005   7.6336  \n",
       "...            ...  \n",
       "Train_336   7.3783  \n",
       "Train_337   7.7313  \n",
       "Train_338   6.4326  \n",
       "Train_339   8.0588  \n",
       "Train_340   8.1243  \n",
       "\n",
       "[340 rows x 9 columns]"
      ]
     },
     "execution_count": 135,
     "metadata": {},
     "output_type": "execute_result"
    }
   ],
   "source": [
    "train_small = train.iloc[:,1:10]\n",
    "train_small"
   ]
  },
  {
   "cell_type": "code",
   "execution_count": 136,
   "metadata": {},
   "outputs": [
    {
     "data": {
      "image/png": "[encoded data removed]",
      "text/plain": [
       "<Figure size 720x720 with 9 Axes>"
      ]
     },
     "metadata": {
      "needs_background": "light"
     },
     "output_type": "display_data"
    }
   ],
   "source": [
    "train_small.hist(bins = 50, figsize = (10,10))\n",
    "plt.show()"
   ]
  },
  {
   "cell_type": "code",
   "execution_count": 137,
   "metadata": {},
   "outputs": [],
   "source": [
    "test_cols = ['CO: 1','CO: 2']\n",
    "if(DATASET == 2): test_cols = ['CO: 3','CO: 4','CO: 5','CO: 6']\n",
    "\n",
    "scaler = preprocessing.StandardScaler()"
   ]
  },
  {
   "cell_type": "code",
   "execution_count": 138,
   "metadata": {},
   "outputs": [
    {
     "data": {
      "text/plain": [
       "StandardScaler()"
      ]
     },
     "execution_count": 138,
     "metadata": {},
     "output_type": "execute_result"
    }
   ],
   "source": [
    "X = train.drop(test_cols, axis=1, errors='ignore')\n",
    "y = train[test_cols]\n",
    "X_test = test.drop(test_cols, axis=1, errors='ignore')\n",
    "scaler.fit(X)"
   ]
  },
  {
   "cell_type": "code",
   "execution_count": 139,
   "metadata": {},
   "outputs": [
    {
     "data": {
      "text/plain": [
       "(340, 54675)"
      ]
     },
     "execution_count": 139,
     "metadata": {},
     "output_type": "execute_result"
    }
   ],
   "source": [
    "scaledX = scaler.transform(X)\n",
    "scaledXtest = scaler.transform(X_test)\n",
    "scaledX.shape"
   ]
  },
  {
   "cell_type": "code",
   "execution_count": 140,
   "metadata": {},
   "outputs": [],
   "source": [
    "X = scaledX\n",
    "X_test = scaledXtest"
   ]
  },
  {
   "cell_type": "code",
   "execution_count": 141,
   "metadata": {},
   "outputs": [
    {
     "data": {
      "text/plain": [
       "((238, 54675), (102, 54675))"
      ]
     },
     "execution_count": 141,
     "metadata": {},
     "output_type": "execute_result"
    }
   ],
   "source": [
    "X_train, X_val, y_train, y_val = train_test_split(X, y, stratify=y, test_size = 0.3, random_state = 42)\n",
    "X_train.shape, X_val.shape\n",
    "#y_train.head()"
   ]
  },
  {
   "cell_type": "code",
   "execution_count": null,
   "metadata": {},
   "outputs": [],
   "source": []
  },
  {
   "cell_type": "code",
   "execution_count": 142,
   "metadata": {},
   "outputs": [
    {
     "data": {
      "text/plain": [
       "array([0., 0., 0., 0., 0., 0., 0., 0., 0., 0., 0., 0., 0., 0., 0., 1., 0.,\n",
       "       0., 0., 1., 0., 0., 1., 1., 0., 1., 0., 0., 0., 0., 0., 0., 0., 0.,\n",
       "       0., 1., 1., 1., 0., 0., 0., 0., 0., 0., 0., 0., 0., 0., 0., 0., 0.,\n",
       "       0., 0., 1., 1., 0., 0., 0., 1., 1., 0., 0., 1., 0., 0., 0., 1., 0.,\n",
       "       1., 0., 1., 0., 1., 0., 0., 0., 0., 0., 0., 0., 1., 0., 0., 0., 0.,\n",
       "       0., 1., 0., 0., 0., 1., 0., 1., 0., 1., 0., 1., 1., 0., 0., 1., 0.,\n",
       "       0., 0., 0., 0., 1., 0., 0., 0., 0., 0., 0., 0., 0., 0., 0., 0., 0.,\n",
       "       1., 0., 0., 0., 1., 0., 0., 0., 1., 0., 0., 1., 1., 0., 0., 0., 1.,\n",
       "       0., 0., 1., 0., 1., 0., 0., 0., 0., 0., 1., 0., 1., 0., 0., 1., 1.,\n",
       "       1., 1., 0., 0., 0., 1., 0., 1., 1., 0., 0., 0., 0., 0., 0., 0., 0.,\n",
       "       0., 0., 0., 0., 0., 0., 0., 0., 0., 0., 0., 1., 0., 0., 0., 0., 0.,\n",
       "       0., 1., 1., 1., 0., 0., 0., 1., 0., 0., 0., 0., 0., 1., 0., 0., 1.,\n",
       "       0., 0., 0., 0., 0., 0., 0., 0., 1., 1., 0., 1., 1., 0., 1., 1., 0.,\n",
       "       0., 0., 0., 0., 0., 0., 0., 1., 0., 1., 0., 0., 0., 1., 0., 0., 0.])"
      ]
     },
     "execution_count": 142,
     "metadata": {},
     "output_type": "execute_result"
    }
   ],
   "source": [
    "np.array(y_train[test_cols[0]])"
   ]
  },
  {
   "cell_type": "code",
   "execution_count": 143,
   "metadata": {},
   "outputs": [
    {
     "data": {
      "text/plain": [
       "(238, 4)"
      ]
     },
     "execution_count": 143,
     "metadata": {},
     "output_type": "execute_result"
    }
   ],
   "source": [
    "np.shape(y_train)"
   ]
  },
  {
   "cell_type": "code",
   "execution_count": 144,
   "metadata": {},
   "outputs": [
    {
     "name": "stdout",
     "output_type": "stream",
     "text": [
      "[0. 0. 0. 0. 0. 0. 0. 0. 0. 0. 0. 0. 0. 0. 0. 1. 0. 0. 0. 1. 0. 0. 1. 1.\n",
      " 0. 1. 0. 0. 0. 0. 0. 0. 0. 0. 0. 1. 1. 1. 0. 0. 0. 0. 0. 0. 0. 0. 0. 0.\n",
      " 0. 0. 0. 0. 0. 1. 1. 0. 0. 0. 1. 1. 0. 0. 1. 0. 0. 0. 1. 0. 1. 0. 1. 0.\n",
      " 1. 0. 0. 0. 0. 0. 0. 0. 1. 0. 0. 0. 0. 0. 1. 0. 0. 0. 1. 0. 1. 0. 1. 0.\n",
      " 1. 1. 0. 0. 1. 0. 0. 0. 0. 0. 1. 0. 0. 0. 0. 0. 0. 0. 0. 0. 0. 0. 0. 1.\n",
      " 0. 0. 0. 1. 0. 0. 0. 1. 0. 0. 1. 1. 0. 0. 0. 1. 0. 0. 1. 0. 1. 0. 0. 0.\n",
      " 0. 0. 1. 0. 1. 0. 0. 1. 1. 1. 1. 0. 0. 0. 1. 0. 1. 1. 0. 0. 0. 0. 0. 0.\n",
      " 0. 0. 0. 0. 0. 0. 0. 0. 0. 0. 0. 0. 0. 1. 0. 0. 0. 0. 0. 0. 1. 1. 1. 0.\n",
      " 0. 0. 1. 0. 0. 0. 0. 0. 1. 0. 0. 1. 0. 0. 0. 0. 0. 0. 0. 0. 1. 1. 0. 1.\n",
      " 1. 0. 1. 1. 0. 0. 0. 0. 0. 0. 0. 0. 1. 0. 1. 0. 0. 0. 1. 0. 0. 0.]\n",
      "[0. 0. 0. 0. 0. 0. 0. 0. 0. 0. 0. 0. 0. 0. 0. 0. 0. 0. 0. 1. 0. 0. 1. 1.\n",
      " 0. 0. 0. 0. 0. 0. 0. 0. 0. 0. 0. 1. 1. 1. 0. 0. 0. 0. 0. 0. 0. 0. 0. 0.\n",
      " 0. 0. 0. 0. 0. 1. 0. 0. 0. 0. 1. 1. 0. 0. 1. 0. 0. 0. 0. 0. 1. 0. 1. 0.\n",
      " 0. 0. 0. 0. 0. 0. 0. 0. 0. 0. 0. 0. 0. 0. 1. 0. 0. 0. 0. 0. 1. 0. 0. 0.\n",
      " 1. 1. 0. 0. 1. 0. 0. 0. 0. 0. 0. 0. 0. 0. 0. 0. 0. 0. 0. 0. 0. 0. 0. 1.\n",
      " 0. 0. 0. 0. 0. 0. 0. 1. 0. 0. 1. 0. 0. 0. 0. 0. 0. 0. 1. 0. 1. 0. 0. 0.\n",
      " 0. 0. 0. 0. 1. 0. 0. 1. 0. 0. 1. 0. 0. 0. 0. 0. 0. 0. 0. 0. 0. 0. 0. 0.\n",
      " 0. 0. 0. 0. 0. 0. 0. 0. 0. 0. 0. 0. 0. 1. 0. 0. 0. 0. 0. 0. 1. 1. 1. 0.\n",
      " 0. 0. 0. 0. 0. 0. 0. 0. 1. 0. 0. 1. 0. 0. 0. 0. 0. 0. 0. 0. 1. 0. 0. 0.\n",
      " 1. 0. 0. 1. 0. 0. 0. 0. 0. 0. 0. 0. 1. 0. 1. 0. 0. 0. 0. 0. 0. 0.]\n",
      "[1. 0. 1. 0. 1. 1. 0. 0. 1. 0. 0. 1. 1. 0. 0. 1. 0. 1. 1. 0. 1. 0. 1. 0.\n",
      " 0. 1. 0. 1. 0. 0. 0. 0. 0. 1. 0. 1. 0. 0. 0. 0. 1. 0. 1. 1. 1. 0. 1. 0.\n",
      " 0. 0. 0. 0. 1. 0. 0. 1. 0. 0. 1. 0. 1. 0. 1. 0. 1. 0. 1. 0. 1. 0. 1. 1.\n",
      " 1. 1. 1. 1. 0. 0. 1. 0. 0. 1. 1. 1. 0. 1. 0. 0. 0. 0. 1. 1. 0. 1. 0. 0.\n",
      " 0. 1. 0. 0. 0. 0. 1. 0. 0. 1. 0. 0. 0. 0. 0. 1. 1. 1. 0. 0. 0. 0. 0. 1.\n",
      " 1. 1. 0. 0. 1. 1. 0. 1. 1. 1. 1. 1. 1. 0. 0. 0. 0. 0. 0. 1. 1. 1. 0. 1.\n",
      " 1. 0. 0. 0. 0. 0. 0. 1. 0. 0. 0. 1. 1. 0. 0. 0. 1. 1. 0. 0. 0. 1. 1. 1.\n",
      " 1. 0. 0. 0. 1. 0. 0. 1. 0. 0. 1. 1. 0. 0. 0. 1. 0. 1. 0. 1. 0. 0. 1. 1.\n",
      " 1. 1. 1. 1. 0. 1. 0. 1. 0. 1. 1. 0. 0. 0. 0. 0. 1. 0. 1. 1. 0. 0. 1. 0.\n",
      " 1. 0. 0. 1. 0. 0. 0. 1. 0. 0. 1. 0. 0. 1. 0. 1. 0. 0. 0. 0. 0. 1.]\n",
      "[1. 1. 1. 1. 0. 1. 0. 1. 0. 0. 0. 0. 1. 1. 1. 1. 0. 1. 1. 0. 1. 0. 1. 0.\n",
      " 0. 0. 0. 0. 1. 0. 0. 1. 1. 1. 1. 1. 1. 1. 1. 1. 1. 0. 1. 1. 0. 0. 1. 1.\n",
      " 0. 1. 1. 0. 0. 1. 1. 1. 1. 1. 1. 1. 1. 1. 1. 0. 1. 0. 1. 1. 1. 1. 1. 1.\n",
      " 0. 1. 1. 0. 1. 0. 0. 0. 1. 1. 1. 0. 1. 0. 1. 1. 1. 0. 1. 1. 0. 0. 0. 1.\n",
      " 0. 0. 0. 1. 0. 1. 1. 1. 0. 0. 1. 1. 1. 1. 0. 0. 1. 1. 0. 0. 0. 0. 1. 0.\n",
      " 0. 1. 1. 1. 1. 1. 0. 0. 0. 0. 0. 1. 1. 1. 1. 0. 1. 1. 1. 0. 0. 0. 0. 0.\n",
      " 1. 1. 0. 1. 0. 0. 1. 1. 1. 1. 0. 1. 0. 1. 0. 1. 1. 1. 1. 1. 1. 1. 0. 1.\n",
      " 1. 0. 1. 0. 1. 0. 1. 1. 1. 0. 1. 1. 1. 1. 0. 1. 0. 1. 0. 1. 0. 0. 1. 0.\n",
      " 1. 0. 0. 1. 1. 1. 0. 0. 1. 1. 0. 0. 1. 1. 0. 0. 0. 1. 1. 1. 1. 1. 0. 1.\n",
      " 0. 1. 0. 0. 1. 0. 0. 0. 1. 0. 0. 1. 1. 1. 1. 1. 0. 1. 1. 0. 0. 1.]\n"
     ]
    }
   ],
   "source": [
    "for i in range(len(test_cols)):\n",
    "    print(np.array(y_train[test_cols[i]]))"
   ]
  },
  {
   "cell_type": "code",
   "execution_count": null,
   "metadata": {},
   "outputs": [],
   "source": []
  },
  {
   "cell_type": "code",
   "execution_count": 145,
   "metadata": {},
   "outputs": [],
   "source": [
    "# model = RandomForestClassifier(n_estimators=1000, n_jobs=-1, random_state=0)\n",
    "\n",
    "# model.fit(scaledX,y)\n",
    "# predictions = model.predict(scaledXtest)\n",
    "# model.score(scaledXtest,ytest)"
   ]
  },
  {
   "cell_type": "code",
   "execution_count": 146,
   "metadata": {},
   "outputs": [
    {
     "name": "stdout",
     "output_type": "stream",
     "text": [
      "CO: 3 0.7450980392156863\n",
      "CO: 4 0.8333333333333334\n",
      "CO: 5 0.9313725490196079\n",
      "CO: 6 0.5392156862745098\n"
     ]
    }
   ],
   "source": [
    "predictions = []\n",
    "for i in range(len(test_cols)):\n",
    "    \n",
    "    y_train_1 = np.array(y_train[test_cols[i]])\n",
    "    y_val_1 = np.array(y_val[test_cols[i]])\n",
    "    y_train_1 = y_train_1.reshape(y_train_1.shape[0],)\n",
    "    y_val_1 = y_val_1.reshape(y_val_1.shape[0],)\n",
    "    #X_test = test.drop(test_cols, axis=1, errors='ignore')\n",
    "\n",
    "    #scaledX = scaler.transform(X)\n",
    "    #scaledXtest = scaler.transform(Xtest)\n",
    "    \n",
    "    \n",
    "    \n",
    "    #estimator = RandomForestClassifier(n_estimators=100, n_jobs=-1, random_state=42)\n",
    "    model = AdaBoostClassifier()\n",
    "    model.fit(X_train,y_train_1)\n",
    "    predictions.append(model.predict(X_val))\n",
    "    print(test_cols[i],model.score(X_val,y_val_1))"
   ]
  },
  {
   "cell_type": "code",
   "execution_count": 127,
   "metadata": {},
   "outputs": [
    {
     "data": {
      "text/plain": [
       "0.43855911358657207"
      ]
     },
     "execution_count": 127,
     "metadata": {},
     "output_type": "execute_result"
    }
   ],
   "source": [
    "matthews_corrcoef(y_val['CO: 2'],predictions[1])"
   ]
  },
  {
   "cell_type": "code",
   "execution_count": null,
   "metadata": {},
   "outputs": [],
   "source": []
  }
 ],
 "metadata": {
  "kernelspec": {
   "display_name": "Python 3 (ipykernel)",
   "language": "python",
   "name": "python3"
  },
  "language_info": {
   "codemirror_mode": {
    "name": "ipython",
    "version": 3
   },
   "file_extension": ".py",
   "mimetype": "text/x-python",
   "name": "python",
   "nbconvert_exporter": "python",
   "pygments_lexer": "ipython3",
   "version": "3.8.10"
  }
 },
 "nbformat": 4,
 "nbformat_minor": 4
}
