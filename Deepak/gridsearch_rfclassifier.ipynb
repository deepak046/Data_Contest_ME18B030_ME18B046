{
 "cells": [
  {
   "cell_type": "code",
   "execution_count": 1,
   "metadata": {},
   "outputs": [],
   "source": [
    "import pandas as pd\n",
    "import numpy as np\n",
    "from scipy.stats import randint\n",
    "from sklearn.tree import DecisionTreeClassifier\n",
    "from sklearn.ensemble import RandomForestClassifier, AdaBoostClassifier\n",
    "from sklearn import preprocessing\n",
    "from sklearn.model_selection import train_test_split, StratifiedShuffleSplit, GridSearchCV, RandomizedSearchCV\n",
    "from sklearn.metrics import matthews_corrcoef\n",
    "from xgboost import XGBClassifier\n",
    "import lightgbm\n",
    "from lightgbm import LGBMClassifier\n",
    "import os\n",
    "%matplotlib inline\n",
    "import matplotlib.pyplot as plt\n",
    "np.random.seed(42)"
   ]
  },
  {
   "cell_type": "code",
   "execution_count": 2,
   "metadata": {},
   "outputs": [],
   "source": [
    "VALIDATION = True\n",
    "DATASET = 2\n",
    "\n",
    "train_1= pd.read_csv(os.path.join(os.getcwd(),f\"Dataset_1_Training.csv\"),index_col=0)\n",
    "test_1 = pd.read_csv(os.path.join(os.getcwd(),f\"Dataset_1_Testing.csv\"),index_col=0)\n",
    "\n",
    "train_2 = pd.read_csv(os.path.join(os.getcwd(),f\"Dataset_2_Training.csv\"),index_col=0)\n",
    "test_2 = pd.read_csv(os.path.join(os.getcwd(),f\"Dataset_2_Testing.csv\"),index_col=0)"
   ]
  },
  {
   "cell_type": "code",
   "execution_count": 3,
   "metadata": {
    "scrolled": true
   },
   "outputs": [
    {
     "data": {
      "text/html": [
       "<div>\n",
       "<style scoped>\n",
       "    .dataframe tbody tr th:only-of-type {\n",
       "        vertical-align: middle;\n",
       "    }\n",
       "\n",
       "    .dataframe tbody tr th {\n",
       "        vertical-align: top;\n",
       "    }\n",
       "\n",
       "    .dataframe thead th {\n",
       "        text-align: right;\n",
       "    }\n",
       "</style>\n",
       "<table border=\"1\" class=\"dataframe\">\n",
       "  <thead>\n",
       "    <tr style=\"text-align: right;\">\n",
       "      <th>ID_REF</th>\n",
       "      <th>gene_1</th>\n",
       "      <th>gene_2</th>\n",
       "      <th>gene_3</th>\n",
       "      <th>gene_4</th>\n",
       "      <th>gene_5</th>\n",
       "      <th>gene_6</th>\n",
       "      <th>gene_7</th>\n",
       "      <th>gene_8</th>\n",
       "      <th>gene_9</th>\n",
       "      <th>gene_10</th>\n",
       "      <th>...</th>\n",
       "      <th>gene_22276</th>\n",
       "      <th>gene_22277</th>\n",
       "      <th>gene_22278</th>\n",
       "      <th>gene_22279</th>\n",
       "      <th>gene_22280</th>\n",
       "      <th>gene_22281</th>\n",
       "      <th>gene_22282</th>\n",
       "      <th>gene_22283</th>\n",
       "      <th>CO: 1</th>\n",
       "      <th>CO: 2</th>\n",
       "    </tr>\n",
       "  </thead>\n",
       "  <tbody>\n",
       "    <tr>\n",
       "      <th>Train_01</th>\n",
       "      <td>12.4440</td>\n",
       "      <td>8.3774</td>\n",
       "      <td>6.7866</td>\n",
       "      <td>10.2851</td>\n",
       "      <td>5.9064</td>\n",
       "      <td>8.3767</td>\n",
       "      <td>8.0356</td>\n",
       "      <td>6.6745</td>\n",
       "      <td>6.2325</td>\n",
       "      <td>6.8450</td>\n",
       "      <td>...</td>\n",
       "      <td>15.6236</td>\n",
       "      <td>15.2785</td>\n",
       "      <td>3.2915</td>\n",
       "      <td>3.6526</td>\n",
       "      <td>2.6412</td>\n",
       "      <td>1.2652</td>\n",
       "      <td>3.0690</td>\n",
       "      <td>2.0271</td>\n",
       "      <td>0.0</td>\n",
       "      <td>1.0</td>\n",
       "    </tr>\n",
       "    <tr>\n",
       "      <th>Train_02</th>\n",
       "      <td>12.2005</td>\n",
       "      <td>7.8592</td>\n",
       "      <td>8.0963</td>\n",
       "      <td>10.4624</td>\n",
       "      <td>4.9582</td>\n",
       "      <td>9.2973</td>\n",
       "      <td>7.0581</td>\n",
       "      <td>6.4607</td>\n",
       "      <td>6.9047</td>\n",
       "      <td>5.8878</td>\n",
       "      <td>...</td>\n",
       "      <td>15.3234</td>\n",
       "      <td>15.1286</td>\n",
       "      <td>3.3811</td>\n",
       "      <td>2.5880</td>\n",
       "      <td>4.4798</td>\n",
       "      <td>4.8098</td>\n",
       "      <td>3.1637</td>\n",
       "      <td>2.4758</td>\n",
       "      <td>0.0</td>\n",
       "      <td>1.0</td>\n",
       "    </tr>\n",
       "    <tr>\n",
       "      <th>Train_03</th>\n",
       "      <td>12.6709</td>\n",
       "      <td>8.6762</td>\n",
       "      <td>7.4812</td>\n",
       "      <td>10.1887</td>\n",
       "      <td>5.2332</td>\n",
       "      <td>9.1721</td>\n",
       "      <td>8.6061</td>\n",
       "      <td>7.0932</td>\n",
       "      <td>6.5940</td>\n",
       "      <td>5.6843</td>\n",
       "      <td>...</td>\n",
       "      <td>15.4604</td>\n",
       "      <td>15.2674</td>\n",
       "      <td>3.1665</td>\n",
       "      <td>3.9743</td>\n",
       "      <td>5.2597</td>\n",
       "      <td>4.3815</td>\n",
       "      <td>2.8034</td>\n",
       "      <td>2.4669</td>\n",
       "      <td>0.0</td>\n",
       "      <td>0.0</td>\n",
       "    </tr>\n",
       "    <tr>\n",
       "      <th>Train_04</th>\n",
       "      <td>11.6619</td>\n",
       "      <td>8.2557</td>\n",
       "      <td>7.9923</td>\n",
       "      <td>10.7705</td>\n",
       "      <td>6.3296</td>\n",
       "      <td>9.3777</td>\n",
       "      <td>8.4776</td>\n",
       "      <td>6.5878</td>\n",
       "      <td>6.0877</td>\n",
       "      <td>6.5169</td>\n",
       "      <td>...</td>\n",
       "      <td>15.5185</td>\n",
       "      <td>15.1655</td>\n",
       "      <td>4.0045</td>\n",
       "      <td>3.8503</td>\n",
       "      <td>5.9114</td>\n",
       "      <td>0.7882</td>\n",
       "      <td>3.1831</td>\n",
       "      <td>3.4820</td>\n",
       "      <td>0.0</td>\n",
       "      <td>0.0</td>\n",
       "    </tr>\n",
       "    <tr>\n",
       "      <th>Train_05</th>\n",
       "      <td>11.8397</td>\n",
       "      <td>8.7971</td>\n",
       "      <td>7.8321</td>\n",
       "      <td>10.2869</td>\n",
       "      <td>5.8389</td>\n",
       "      <td>7.0841</td>\n",
       "      <td>7.3419</td>\n",
       "      <td>7.3167</td>\n",
       "      <td>6.3456</td>\n",
       "      <td>6.1708</td>\n",
       "      <td>...</td>\n",
       "      <td>15.3143</td>\n",
       "      <td>14.9506</td>\n",
       "      <td>3.0514</td>\n",
       "      <td>3.2946</td>\n",
       "      <td>5.1537</td>\n",
       "      <td>3.9179</td>\n",
       "      <td>3.1881</td>\n",
       "      <td>2.9769</td>\n",
       "      <td>0.0</td>\n",
       "      <td>0.0</td>\n",
       "    </tr>\n",
       "  </tbody>\n",
       "</table>\n",
       "<p>5 rows × 22285 columns</p>\n",
       "</div>"
      ],
      "text/plain": [
       "ID_REF     gene_1  gene_2  gene_3   gene_4  gene_5  gene_6  gene_7  gene_8  \\\n",
       "Train_01  12.4440  8.3774  6.7866  10.2851  5.9064  8.3767  8.0356  6.6745   \n",
       "Train_02  12.2005  7.8592  8.0963  10.4624  4.9582  9.2973  7.0581  6.4607   \n",
       "Train_03  12.6709  8.6762  7.4812  10.1887  5.2332  9.1721  8.6061  7.0932   \n",
       "Train_04  11.6619  8.2557  7.9923  10.7705  6.3296  9.3777  8.4776  6.5878   \n",
       "Train_05  11.8397  8.7971  7.8321  10.2869  5.8389  7.0841  7.3419  7.3167   \n",
       "\n",
       "ID_REF    gene_9  gene_10  ...  gene_22276  gene_22277  gene_22278  \\\n",
       "Train_01  6.2325   6.8450  ...     15.6236     15.2785      3.2915   \n",
       "Train_02  6.9047   5.8878  ...     15.3234     15.1286      3.3811   \n",
       "Train_03  6.5940   5.6843  ...     15.4604     15.2674      3.1665   \n",
       "Train_04  6.0877   6.5169  ...     15.5185     15.1655      4.0045   \n",
       "Train_05  6.3456   6.1708  ...     15.3143     14.9506      3.0514   \n",
       "\n",
       "ID_REF    gene_22279  gene_22280  gene_22281  gene_22282  gene_22283  CO: 1  \\\n",
       "Train_01      3.6526      2.6412      1.2652      3.0690      2.0271    0.0   \n",
       "Train_02      2.5880      4.4798      4.8098      3.1637      2.4758    0.0   \n",
       "Train_03      3.9743      5.2597      4.3815      2.8034      2.4669    0.0   \n",
       "Train_04      3.8503      5.9114      0.7882      3.1831      3.4820    0.0   \n",
       "Train_05      3.2946      5.1537      3.9179      3.1881      2.9769    0.0   \n",
       "\n",
       "ID_REF    CO: 2  \n",
       "Train_01    1.0  \n",
       "Train_02    1.0  \n",
       "Train_03    0.0  \n",
       "Train_04    0.0  \n",
       "Train_05    0.0  \n",
       "\n",
       "[5 rows x 22285 columns]"
      ]
     },
     "execution_count": 3,
     "metadata": {},
     "output_type": "execute_result"
    }
   ],
   "source": [
    "train_1.T.head() "
   ]
  },
  {
   "cell_type": "code",
   "execution_count": 4,
   "metadata": {},
   "outputs": [
    {
     "data": {
      "text/html": [
       "<div>\n",
       "<style scoped>\n",
       "    .dataframe tbody tr th:only-of-type {\n",
       "        vertical-align: middle;\n",
       "    }\n",
       "\n",
       "    .dataframe tbody tr th {\n",
       "        vertical-align: top;\n",
       "    }\n",
       "\n",
       "    .dataframe thead th {\n",
       "        text-align: right;\n",
       "    }\n",
       "</style>\n",
       "<table border=\"1\" class=\"dataframe\">\n",
       "  <thead>\n",
       "    <tr style=\"text-align: right;\">\n",
       "      <th>ID_REF</th>\n",
       "      <th>gene_1</th>\n",
       "      <th>gene_2</th>\n",
       "      <th>gene_3</th>\n",
       "      <th>gene_4</th>\n",
       "      <th>gene_5</th>\n",
       "      <th>gene_6</th>\n",
       "      <th>gene_7</th>\n",
       "      <th>gene_8</th>\n",
       "      <th>gene_9</th>\n",
       "      <th>gene_10</th>\n",
       "      <th>...</th>\n",
       "      <th>gene_54670</th>\n",
       "      <th>gene_54671</th>\n",
       "      <th>gene_54672</th>\n",
       "      <th>gene_54673</th>\n",
       "      <th>gene_54674</th>\n",
       "      <th>gene_54675</th>\n",
       "      <th>CO: 3</th>\n",
       "      <th>CO: 4</th>\n",
       "      <th>CO: 5</th>\n",
       "      <th>CO: 6</th>\n",
       "    </tr>\n",
       "  </thead>\n",
       "  <tbody>\n",
       "    <tr>\n",
       "      <th>Train_001</th>\n",
       "      <td>8.2843</td>\n",
       "      <td>8.7174</td>\n",
       "      <td>8.3019</td>\n",
       "      <td>11.8611</td>\n",
       "      <td>4.6883</td>\n",
       "      <td>9.8524</td>\n",
       "      <td>8.2301</td>\n",
       "      <td>4.8406</td>\n",
       "      <td>7.5667</td>\n",
       "      <td>8.4165</td>\n",
       "      <td>...</td>\n",
       "      <td>6.3546</td>\n",
       "      <td>7.2572</td>\n",
       "      <td>3.6080</td>\n",
       "      <td>3.9483</td>\n",
       "      <td>4.5200</td>\n",
       "      <td>4.5195</td>\n",
       "      <td>0.0</td>\n",
       "      <td>0.0</td>\n",
       "      <td>1.0</td>\n",
       "      <td>1.0</td>\n",
       "    </tr>\n",
       "    <tr>\n",
       "      <th>Train_002</th>\n",
       "      <td>9.0419</td>\n",
       "      <td>8.8729</td>\n",
       "      <td>8.4559</td>\n",
       "      <td>11.2112</td>\n",
       "      <td>5.7059</td>\n",
       "      <td>10.2263</td>\n",
       "      <td>7.9439</td>\n",
       "      <td>4.6463</td>\n",
       "      <td>6.1828</td>\n",
       "      <td>7.0852</td>\n",
       "      <td>...</td>\n",
       "      <td>4.9707</td>\n",
       "      <td>6.4847</td>\n",
       "      <td>5.1648</td>\n",
       "      <td>1.8369</td>\n",
       "      <td>3.8223</td>\n",
       "      <td>3.4288</td>\n",
       "      <td>0.0</td>\n",
       "      <td>0.0</td>\n",
       "      <td>1.0</td>\n",
       "      <td>1.0</td>\n",
       "    </tr>\n",
       "    <tr>\n",
       "      <th>Train_003</th>\n",
       "      <td>7.6171</td>\n",
       "      <td>8.3904</td>\n",
       "      <td>8.1184</td>\n",
       "      <td>11.0341</td>\n",
       "      <td>5.8050</td>\n",
       "      <td>9.5912</td>\n",
       "      <td>6.8044</td>\n",
       "      <td>4.0878</td>\n",
       "      <td>8.1184</td>\n",
       "      <td>7.3179</td>\n",
       "      <td>...</td>\n",
       "      <td>3.9571</td>\n",
       "      <td>6.2647</td>\n",
       "      <td>3.4216</td>\n",
       "      <td>4.7911</td>\n",
       "      <td>5.4910</td>\n",
       "      <td>3.8438</td>\n",
       "      <td>0.0</td>\n",
       "      <td>0.0</td>\n",
       "      <td>0.0</td>\n",
       "      <td>1.0</td>\n",
       "    </tr>\n",
       "    <tr>\n",
       "      <th>Train_004</th>\n",
       "      <td>9.6283</td>\n",
       "      <td>8.3840</td>\n",
       "      <td>9.9061</td>\n",
       "      <td>12.0571</td>\n",
       "      <td>5.1193</td>\n",
       "      <td>10.5774</td>\n",
       "      <td>8.1628</td>\n",
       "      <td>5.3257</td>\n",
       "      <td>5.6398</td>\n",
       "      <td>7.6829</td>\n",
       "      <td>...</td>\n",
       "      <td>4.6561</td>\n",
       "      <td>7.5776</td>\n",
       "      <td>6.2385</td>\n",
       "      <td>4.1413</td>\n",
       "      <td>5.3047</td>\n",
       "      <td>5.4693</td>\n",
       "      <td>0.0</td>\n",
       "      <td>0.0</td>\n",
       "      <td>0.0</td>\n",
       "      <td>1.0</td>\n",
       "    </tr>\n",
       "    <tr>\n",
       "      <th>Train_005</th>\n",
       "      <td>10.1735</td>\n",
       "      <td>9.1585</td>\n",
       "      <td>7.9649</td>\n",
       "      <td>11.0843</td>\n",
       "      <td>5.0119</td>\n",
       "      <td>8.7764</td>\n",
       "      <td>8.1379</td>\n",
       "      <td>3.6227</td>\n",
       "      <td>7.7334</td>\n",
       "      <td>7.6336</td>\n",
       "      <td>...</td>\n",
       "      <td>3.7007</td>\n",
       "      <td>3.8720</td>\n",
       "      <td>3.1052</td>\n",
       "      <td>5.4053</td>\n",
       "      <td>5.3599</td>\n",
       "      <td>2.8328</td>\n",
       "      <td>0.0</td>\n",
       "      <td>0.0</td>\n",
       "      <td>0.0</td>\n",
       "      <td>1.0</td>\n",
       "    </tr>\n",
       "  </tbody>\n",
       "</table>\n",
       "<p>5 rows × 54679 columns</p>\n",
       "</div>"
      ],
      "text/plain": [
       "ID_REF      gene_1  gene_2  gene_3   gene_4  gene_5   gene_6  gene_7  gene_8  \\\n",
       "Train_001   8.2843  8.7174  8.3019  11.8611  4.6883   9.8524  8.2301  4.8406   \n",
       "Train_002   9.0419  8.8729  8.4559  11.2112  5.7059  10.2263  7.9439  4.6463   \n",
       "Train_003   7.6171  8.3904  8.1184  11.0341  5.8050   9.5912  6.8044  4.0878   \n",
       "Train_004   9.6283  8.3840  9.9061  12.0571  5.1193  10.5774  8.1628  5.3257   \n",
       "Train_005  10.1735  9.1585  7.9649  11.0843  5.0119   8.7764  8.1379  3.6227   \n",
       "\n",
       "ID_REF     gene_9  gene_10  ...  gene_54670  gene_54671  gene_54672  \\\n",
       "Train_001  7.5667   8.4165  ...      6.3546      7.2572      3.6080   \n",
       "Train_002  6.1828   7.0852  ...      4.9707      6.4847      5.1648   \n",
       "Train_003  8.1184   7.3179  ...      3.9571      6.2647      3.4216   \n",
       "Train_004  5.6398   7.6829  ...      4.6561      7.5776      6.2385   \n",
       "Train_005  7.7334   7.6336  ...      3.7007      3.8720      3.1052   \n",
       "\n",
       "ID_REF     gene_54673  gene_54674  gene_54675  CO: 3  CO: 4  CO: 5  CO: 6  \n",
       "Train_001      3.9483      4.5200      4.5195    0.0    0.0    1.0    1.0  \n",
       "Train_002      1.8369      3.8223      3.4288    0.0    0.0    1.0    1.0  \n",
       "Train_003      4.7911      5.4910      3.8438    0.0    0.0    0.0    1.0  \n",
       "Train_004      4.1413      5.3047      5.4693    0.0    0.0    0.0    1.0  \n",
       "Train_005      5.4053      5.3599      2.8328    0.0    0.0    0.0    1.0  \n",
       "\n",
       "[5 rows x 54679 columns]"
      ]
     },
     "execution_count": 4,
     "metadata": {},
     "output_type": "execute_result"
    }
   ],
   "source": [
    "train_2.T.head() "
   ]
  },
  {
   "cell_type": "code",
   "execution_count": 5,
   "metadata": {},
   "outputs": [
    {
     "data": {
      "text/plain": [
       "['CO: 1', 'CO: 2']"
      ]
     },
     "execution_count": 5,
     "metadata": {},
     "output_type": "execute_result"
    }
   ],
   "source": [
    "list(train_1.T.columns[-2:])"
   ]
  },
  {
   "cell_type": "code",
   "execution_count": 6,
   "metadata": {},
   "outputs": [
    {
     "data": {
      "text/plain": [
       "['CO: 3', 'CO: 4', 'CO: 5', 'CO: 6']"
      ]
     },
     "execution_count": 6,
     "metadata": {},
     "output_type": "execute_result"
    }
   ],
   "source": [
    "list(train_2.T.columns[-4:])"
   ]
  },
  {
   "cell_type": "code",
   "execution_count": 7,
   "metadata": {},
   "outputs": [
    {
     "data": {
      "text/plain": [
       "(130, 22285)"
      ]
     },
     "execution_count": 7,
     "metadata": {},
     "output_type": "execute_result"
    }
   ],
   "source": [
    "train_1.T.shape"
   ]
  },
  {
   "cell_type": "code",
   "execution_count": 8,
   "metadata": {},
   "outputs": [
    {
     "data": {
      "text/plain": [
       "(340, 54679)"
      ]
     },
     "execution_count": 8,
     "metadata": {},
     "output_type": "execute_result"
    }
   ],
   "source": [
    "train_2.T.shape"
   ]
  },
  {
   "cell_type": "code",
   "execution_count": 9,
   "metadata": {},
   "outputs": [
    {
     "data": {
      "text/plain": [
       "(100, 22283)"
      ]
     },
     "execution_count": 9,
     "metadata": {},
     "output_type": "execute_result"
    }
   ],
   "source": [
    "test_1.T.shape"
   ]
  },
  {
   "cell_type": "code",
   "execution_count": 10,
   "metadata": {},
   "outputs": [
    {
     "data": {
      "text/plain": [
       "(214, 54675)"
      ]
     },
     "execution_count": 10,
     "metadata": {},
     "output_type": "execute_result"
    }
   ],
   "source": [
    "test_2.T.shape"
   ]
  },
  {
   "cell_type": "code",
   "execution_count": 11,
   "metadata": {},
   "outputs": [],
   "source": [
    "train_1 = train_1.T\n",
    "test_1 = test_1.T\n",
    "train_2= train_2.T\n",
    "test_2 = test_2.T"
   ]
  },
  {
   "cell_type": "code",
   "execution_count": 12,
   "metadata": {},
   "outputs": [
    {
     "data": {
      "text/html": [
       "<div>\n",
       "<style scoped>\n",
       "    .dataframe tbody tr th:only-of-type {\n",
       "        vertical-align: middle;\n",
       "    }\n",
       "\n",
       "    .dataframe tbody tr th {\n",
       "        vertical-align: top;\n",
       "    }\n",
       "\n",
       "    .dataframe thead th {\n",
       "        text-align: right;\n",
       "    }\n",
       "</style>\n",
       "<table border=\"1\" class=\"dataframe\">\n",
       "  <thead>\n",
       "    <tr style=\"text-align: right;\">\n",
       "      <th>ID_REF</th>\n",
       "      <th>gene_2</th>\n",
       "      <th>gene_3</th>\n",
       "      <th>gene_4</th>\n",
       "      <th>gene_5</th>\n",
       "      <th>gene_6</th>\n",
       "      <th>gene_7</th>\n",
       "      <th>gene_8</th>\n",
       "      <th>gene_9</th>\n",
       "      <th>gene_10</th>\n",
       "    </tr>\n",
       "  </thead>\n",
       "  <tbody>\n",
       "    <tr>\n",
       "      <th>Train_01</th>\n",
       "      <td>8.3774</td>\n",
       "      <td>6.7866</td>\n",
       "      <td>10.2851</td>\n",
       "      <td>5.9064</td>\n",
       "      <td>8.3767</td>\n",
       "      <td>8.0356</td>\n",
       "      <td>6.6745</td>\n",
       "      <td>6.2325</td>\n",
       "      <td>6.8450</td>\n",
       "    </tr>\n",
       "    <tr>\n",
       "      <th>Train_02</th>\n",
       "      <td>7.8592</td>\n",
       "      <td>8.0963</td>\n",
       "      <td>10.4624</td>\n",
       "      <td>4.9582</td>\n",
       "      <td>9.2973</td>\n",
       "      <td>7.0581</td>\n",
       "      <td>6.4607</td>\n",
       "      <td>6.9047</td>\n",
       "      <td>5.8878</td>\n",
       "    </tr>\n",
       "    <tr>\n",
       "      <th>Train_03</th>\n",
       "      <td>8.6762</td>\n",
       "      <td>7.4812</td>\n",
       "      <td>10.1887</td>\n",
       "      <td>5.2332</td>\n",
       "      <td>9.1721</td>\n",
       "      <td>8.6061</td>\n",
       "      <td>7.0932</td>\n",
       "      <td>6.5940</td>\n",
       "      <td>5.6843</td>\n",
       "    </tr>\n",
       "    <tr>\n",
       "      <th>Train_04</th>\n",
       "      <td>8.2557</td>\n",
       "      <td>7.9923</td>\n",
       "      <td>10.7705</td>\n",
       "      <td>6.3296</td>\n",
       "      <td>9.3777</td>\n",
       "      <td>8.4776</td>\n",
       "      <td>6.5878</td>\n",
       "      <td>6.0877</td>\n",
       "      <td>6.5169</td>\n",
       "    </tr>\n",
       "    <tr>\n",
       "      <th>Train_05</th>\n",
       "      <td>8.7971</td>\n",
       "      <td>7.8321</td>\n",
       "      <td>10.2869</td>\n",
       "      <td>5.8389</td>\n",
       "      <td>7.0841</td>\n",
       "      <td>7.3419</td>\n",
       "      <td>7.3167</td>\n",
       "      <td>6.3456</td>\n",
       "      <td>6.1708</td>\n",
       "    </tr>\n",
       "    <tr>\n",
       "      <th>...</th>\n",
       "      <td>...</td>\n",
       "      <td>...</td>\n",
       "      <td>...</td>\n",
       "      <td>...</td>\n",
       "      <td>...</td>\n",
       "      <td>...</td>\n",
       "      <td>...</td>\n",
       "      <td>...</td>\n",
       "      <td>...</td>\n",
       "    </tr>\n",
       "    <tr>\n",
       "      <th>Train_126</th>\n",
       "      <td>8.0073</td>\n",
       "      <td>7.1604</td>\n",
       "      <td>9.3056</td>\n",
       "      <td>2.7648</td>\n",
       "      <td>9.0741</td>\n",
       "      <td>5.9092</td>\n",
       "      <td>5.2527</td>\n",
       "      <td>5.7626</td>\n",
       "      <td>3.1870</td>\n",
       "    </tr>\n",
       "    <tr>\n",
       "      <th>Train_127</th>\n",
       "      <td>8.7849</td>\n",
       "      <td>8.1964</td>\n",
       "      <td>8.5677</td>\n",
       "      <td>3.2988</td>\n",
       "      <td>9.7455</td>\n",
       "      <td>6.6631</td>\n",
       "      <td>3.9661</td>\n",
       "      <td>7.8396</td>\n",
       "      <td>6.5435</td>\n",
       "    </tr>\n",
       "    <tr>\n",
       "      <th>Train_128</th>\n",
       "      <td>8.6856</td>\n",
       "      <td>6.9133</td>\n",
       "      <td>9.7126</td>\n",
       "      <td>6.4256</td>\n",
       "      <td>9.6322</td>\n",
       "      <td>7.1716</td>\n",
       "      <td>3.9828</td>\n",
       "      <td>7.1508</td>\n",
       "      <td>6.2048</td>\n",
       "    </tr>\n",
       "    <tr>\n",
       "      <th>Train_129</th>\n",
       "      <td>8.6771</td>\n",
       "      <td>4.9542</td>\n",
       "      <td>9.6943</td>\n",
       "      <td>4.0177</td>\n",
       "      <td>9.4154</td>\n",
       "      <td>8.1591</td>\n",
       "      <td>6.9346</td>\n",
       "      <td>8.3595</td>\n",
       "      <td>6.4817</td>\n",
       "    </tr>\n",
       "    <tr>\n",
       "      <th>Train_130</th>\n",
       "      <td>7.5860</td>\n",
       "      <td>6.6064</td>\n",
       "      <td>9.2455</td>\n",
       "      <td>6.5469</td>\n",
       "      <td>8.9235</td>\n",
       "      <td>7.4870</td>\n",
       "      <td>2.7905</td>\n",
       "      <td>9.6112</td>\n",
       "      <td>6.3782</td>\n",
       "    </tr>\n",
       "  </tbody>\n",
       "</table>\n",
       "<p>130 rows × 9 columns</p>\n",
       "</div>"
      ],
      "text/plain": [
       "ID_REF     gene_2  gene_3   gene_4  gene_5  gene_6  gene_7  gene_8  gene_9  \\\n",
       "Train_01   8.3774  6.7866  10.2851  5.9064  8.3767  8.0356  6.6745  6.2325   \n",
       "Train_02   7.8592  8.0963  10.4624  4.9582  9.2973  7.0581  6.4607  6.9047   \n",
       "Train_03   8.6762  7.4812  10.1887  5.2332  9.1721  8.6061  7.0932  6.5940   \n",
       "Train_04   8.2557  7.9923  10.7705  6.3296  9.3777  8.4776  6.5878  6.0877   \n",
       "Train_05   8.7971  7.8321  10.2869  5.8389  7.0841  7.3419  7.3167  6.3456   \n",
       "...           ...     ...      ...     ...     ...     ...     ...     ...   \n",
       "Train_126  8.0073  7.1604   9.3056  2.7648  9.0741  5.9092  5.2527  5.7626   \n",
       "Train_127  8.7849  8.1964   8.5677  3.2988  9.7455  6.6631  3.9661  7.8396   \n",
       "Train_128  8.6856  6.9133   9.7126  6.4256  9.6322  7.1716  3.9828  7.1508   \n",
       "Train_129  8.6771  4.9542   9.6943  4.0177  9.4154  8.1591  6.9346  8.3595   \n",
       "Train_130  7.5860  6.6064   9.2455  6.5469  8.9235  7.4870  2.7905  9.6112   \n",
       "\n",
       "ID_REF     gene_10  \n",
       "Train_01    6.8450  \n",
       "Train_02    5.8878  \n",
       "Train_03    5.6843  \n",
       "Train_04    6.5169  \n",
       "Train_05    6.1708  \n",
       "...            ...  \n",
       "Train_126   3.1870  \n",
       "Train_127   6.5435  \n",
       "Train_128   6.2048  \n",
       "Train_129   6.4817  \n",
       "Train_130   6.3782  \n",
       "\n",
       "[130 rows x 9 columns]"
      ]
     },
     "execution_count": 12,
     "metadata": {},
     "output_type": "execute_result"
    }
   ],
   "source": [
    "train_small = train_1.iloc[:,1:10]\n",
    "train_small"
   ]
  },
  {
   "cell_type": "code",
   "execution_count": 13,
   "metadata": {},
   "outputs": [
    {
     "data": {
      "image/png": "[encoded data removed]",
      "text/plain": [
       "<Figure size 720x720 with 9 Axes>"
      ]
     },
     "metadata": {
      "needs_background": "light"
     },
     "output_type": "display_data"
    }
   ],
   "source": [
    "train_small.hist(bins = 50, figsize = (10,10))\n",
    "plt.show()"
   ]
  },
  {
   "cell_type": "code",
   "execution_count": 14,
   "metadata": {},
   "outputs": [],
   "source": [
    "test_cols_1 = ['CO: 1','CO: 2']\n",
    "test_cols_2 = ['CO: 3','CO: 4','CO: 5','CO: 6']\n",
    "test_cols = ['CO: 1','CO: 2','CO: 3','CO: 4','CO: 5','CO: 6']\n",
    "scaler = preprocessing.StandardScaler()"
   ]
  },
  {
   "cell_type": "code",
   "execution_count": 15,
   "metadata": {},
   "outputs": [
    {
     "data": {
      "text/plain": [
       "StandardScaler()"
      ]
     },
     "execution_count": 15,
     "metadata": {},
     "output_type": "execute_result"
    }
   ],
   "source": [
    "X_1 = train_1.drop(test_cols_1, axis=1, errors='ignore')\n",
    "y_1 = train_1[test_cols_1]\n",
    "X_test_1 = test_1.drop(test_cols_1, axis=1, errors='ignore')\n",
    "scaler.fit(X_1)"
   ]
  },
  {
   "cell_type": "code",
   "execution_count": 16,
   "metadata": {},
   "outputs": [
    {
     "data": {
      "text/plain": [
       "(130, 22283)"
      ]
     },
     "execution_count": 16,
     "metadata": {},
     "output_type": "execute_result"
    }
   ],
   "source": [
    "scaledX_1 = scaler.transform(X_1)\n",
    "scaledXtest_1 = scaler.transform(X_test_1)\n",
    "scaledX_1.shape"
   ]
  },
  {
   "cell_type": "code",
   "execution_count": 17,
   "metadata": {},
   "outputs": [
    {
     "data": {
      "text/plain": [
       "StandardScaler()"
      ]
     },
     "execution_count": 17,
     "metadata": {},
     "output_type": "execute_result"
    }
   ],
   "source": [
    "X_2 = train_2.drop(test_cols_2, axis=1, errors='ignore')\n",
    "y_2 = train_2[test_cols_2]\n",
    "X_test_2 = test_2.drop(test_cols_2, axis=1, errors='ignore')\n",
    "scaler.fit(X_2)"
   ]
  },
  {
   "cell_type": "code",
   "execution_count": 18,
   "metadata": {},
   "outputs": [
    {
     "data": {
      "text/plain": [
       "(340, 54675)"
      ]
     },
     "execution_count": 18,
     "metadata": {},
     "output_type": "execute_result"
    }
   ],
   "source": [
    "scaledX_2 = scaler.transform(X_2)\n",
    "scaledXtest_2 = scaler.transform(X_test_2)\n",
    "scaledX_2.shape"
   ]
  },
  {
   "cell_type": "code",
   "execution_count": 19,
   "metadata": {},
   "outputs": [],
   "source": [
    "X_1 = scaledX_1\n",
    "X_test_1 = scaledXtest_1\n",
    "X_2 = scaledX_2\n",
    "X_test_2 = scaledXtest_2"
   ]
  },
  {
   "cell_type": "code",
   "execution_count": 20,
   "metadata": {},
   "outputs": [
    {
     "data": {
      "text/plain": [
       "((91, 22283), (39, 22283))"
      ]
     },
     "execution_count": 20,
     "metadata": {},
     "output_type": "execute_result"
    }
   ],
   "source": [
    "X_train_1, X_val_1, y_train_1, y_val_1 = train_test_split(X_1, y_1, stratify=y_1, test_size = 0.3, random_state = 42)\n",
    "X_train_1.shape, X_val_1.shape\n",
    "#y_train.head()"
   ]
  },
  {
   "cell_type": "code",
   "execution_count": 21,
   "metadata": {},
   "outputs": [
    {
     "data": {
      "text/plain": [
       "((238, 54675), (102, 54675))"
      ]
     },
     "execution_count": 21,
     "metadata": {},
     "output_type": "execute_result"
    }
   ],
   "source": [
    "X_train_2, X_val_2, y_train_2, y_val_2 = train_test_split(X_2, y_2, stratify=y_2, test_size = 0.3, random_state = 42)\n",
    "X_train_2.shape, X_val_2.shape\n",
    "#y_train.head()"
   ]
  },
  {
   "cell_type": "code",
   "execution_count": 22,
   "metadata": {},
   "outputs": [
    {
     "data": {
      "text/plain": [
       "array([1., 0., 1., 0., 0., 0., 0., 1., 1., 0., 1., 0., 0., 0., 0., 0., 0.,\n",
       "       0., 0., 0., 0., 0., 1., 0., 0., 0., 1., 0., 0., 0., 0., 0., 0., 0.,\n",
       "       1., 1., 1., 0., 1., 0., 1., 0., 0., 0., 1., 0., 0., 1., 1., 1., 0.,\n",
       "       0., 0., 0., 0., 0., 0., 1., 0., 0., 1., 0., 0., 0., 0., 0., 1., 0.,\n",
       "       0., 0., 1., 0., 0., 0., 0., 0., 1., 0., 0., 0., 0., 0., 1., 0., 0.,\n",
       "       1., 0., 0., 0., 0., 0.])"
      ]
     },
     "execution_count": 22,
     "metadata": {},
     "output_type": "execute_result"
    }
   ],
   "source": [
    "np.array(y_train_1[test_cols[0]])"
   ]
  },
  {
   "cell_type": "code",
   "execution_count": 23,
   "metadata": {},
   "outputs": [
    {
     "data": {
      "text/plain": [
       "(91, 2)"
      ]
     },
     "execution_count": 23,
     "metadata": {},
     "output_type": "execute_result"
    }
   ],
   "source": [
    "np.shape(y_train_1)"
   ]
  },
  {
   "cell_type": "code",
   "execution_count": 24,
   "metadata": {},
   "outputs": [],
   "source": [
    "#for i in range(len(test_cols)):\n",
    "    #print(np.array(y_train[test_cols[i]]))"
   ]
  },
  {
   "cell_type": "code",
   "execution_count": null,
   "metadata": {},
   "outputs": [],
   "source": []
  },
  {
   "cell_type": "code",
   "execution_count": 25,
   "metadata": {},
   "outputs": [],
   "source": [
    "# model = RandomForestClassifier(n_estimators=1000, n_jobs=-1, random_state=0)\n",
    "\n",
    "# model.fit(scaledX,y)\n",
    "# predictions = model.predict(scaledXtest)\n",
    "# model.score(scaledXtest,ytest)"
   ]
  },
  {
   "cell_type": "code",
   "execution_count": 42,
   "metadata": {},
   "outputs": [],
   "source": [
    "def get_model():\n",
    "    model = RandomForestClassifier()\n",
    "    return model"
   ]
  },
  {
   "cell_type": "code",
   "execution_count": 45,
   "metadata": {
    "scrolled": true
   },
   "outputs": [
    {
     "name": "stdout",
     "output_type": "stream",
     "text": [
      "CO: 1 0.7435897435897436\n",
      "CO: 2 0.6410256410256411\n",
      "CO: 3 0.7843137254901961\n",
      "CO: 4 0.8529411764705882\n",
      "CO: 5 0.803921568627451\n",
      "CO: 6 0.5686274509803921\n"
     ]
    }
   ],
   "source": [
    "predictions = []\n",
    "ypred = []\n",
    "yval  = []\n",
    "param = {'n_estimators':[100,200,300,400,500,600,700,800,900,1000],'max_depth':[1,5,10,15,20]}\n",
    "for i in range(len(test_cols)):\n",
    "    if i <= 1:\n",
    "        y_train_11 = np.array(y_train_1[test_cols[i]])\n",
    "        y_val_11 = np.array(y_val_1[test_cols[i]])\n",
    "        y_train_11 = y_train_11.reshape(y_train_11.shape[0],)\n",
    "        y_val_11 = y_val_11.reshape(y_val_11.shape[0],)\n",
    "        rf1 = get_model()\n",
    "        model_1 = GridSearchCV(rf1,param)\n",
    "        #model_1 = XGBClassifier(max_depth = 5, learning_rate = 0.01, eval_metric = 'mlogloss', n_estimators = 75, use_label_encoder=False)\n",
    "        #param_1 = [{'max_depth':[10,20,30],'learning_rate':[0.05,0.1,0.15],'n_estimators':[50,100,200]}]\n",
    "        #model_1 = GridSearchCV(xgb1,param_1,cv=5,scoring=\"neg_mean_squared_error\",return_train_score = True)\n",
    "        \n",
    "        model_1.fit(X_train_1,y_train_11)\n",
    "        predictions.extend(model_1.predict(X_val_1))\n",
    "        print(test_cols[i],model_1.score(X_val_1,y_val_11))\n",
    "        ypred.extend(model_1.predict(X_test_1))\n",
    "        yval.extend(y_val_11)\n",
    "    \n",
    "    if i > 1:\n",
    "        y_train_12 = np.array(y_train_2[test_cols[i]])\n",
    "        y_val_12 = np.array(y_val_2[test_cols[i]])\n",
    "        y_train_12 = y_train_12.reshape(y_train_12.shape[0],)\n",
    "        y_val_12 = y_val_12.reshape(y_val_12.shape[0],)\n",
    "        rf2 = get_model()\n",
    "        model_2 = GridSearchCV(rf2,param)\n",
    "        #model_2 = LGBMClassifier(max_depth=20,n_estimators=1000,lambda_l2=2,bagging_fraction=0.75,feature_fraction=0.6)\n",
    "        #model_2 = XGBClassifier(max_depth = 5, learning_rate = 0.01, eval_metric = 'mlogloss', n_estimators = 75, use_label_encoder=False)\n",
    "        #param_2 = [{'max_depth':[10,20,30],'learning_rate':[0.05,0.1,0.15],'n_estimators':[50,100,200]}]\n",
    "        #model_2 = GridSearchCV(XGBClassifier(eval_metric='mlogloss'),param_2,cv=5,scoring=\"neg_mean_squared_error\",return_train_score = True)\n",
    "        \n",
    "        model_2.fit(X_train_2,y_train_12)\n",
    "        predictions.extend(model_2.predict(X_val_2))\n",
    "        print(test_cols[i],model_2.score(X_val_2,y_val_12))\n",
    "        ypred.extend(model_2.predict(X_test_2))\n",
    "        yval.extend(y_val_12)\n",
    "    \n",
    "    #X_test = test.drop(test_cols, axis=1, errors='ignore')\n",
    "    #scaledX = scaler.transform(X)\n",
    "    #scaledXtest = scaler.transform(Xtest)  \n",
    "    #estimator = RandomForestClassifier(n_estimators=100, n_jobs=-1, random_state=42)\n",
    "\n",
    "\n",
    "    "
   ]
  },
  {
   "cell_type": "code",
   "execution_count": 46,
   "metadata": {},
   "outputs": [],
   "source": [
    "#for i in range(len(test_cols)):\n",
    "#    if i<=1:\n",
    "#        print(f\"CO: {i+1} -\",matthews_corrcoef(y_val_1[f'CO: {i+1}'],predictions[i]))\n",
    "#    else:\n",
    "#        print(f\"CO: {i+1} -\",matthews_corrcoef(y_val_2[f'CO: {i+1}'],predictions[i]))"
   ]
  },
  {
   "cell_type": "code",
   "execution_count": null,
   "metadata": {},
   "outputs": [],
   "source": []
  },
  {
   "cell_type": "code",
   "execution_count": 47,
   "metadata": {},
   "outputs": [],
   "source": [
    "ypred = np.array(ypred)\n",
    "yval = np.array(yval)\n",
    "predictions = np.array(predictions)"
   ]
  },
  {
   "cell_type": "code",
   "execution_count": 48,
   "metadata": {},
   "outputs": [
    {
     "data": {
      "text/plain": [
       "(1056,)"
      ]
     },
     "execution_count": 48,
     "metadata": {},
     "output_type": "execute_result"
    }
   ],
   "source": [
    "ypred.shape"
   ]
  },
  {
   "cell_type": "code",
   "execution_count": 49,
   "metadata": {},
   "outputs": [],
   "source": [
    "ypred1 = pd.DataFrame(ypred)\n",
    "yval1 = pd.DataFrame(yval)\n",
    "predictions1 = pd.DataFrame(predictions)"
   ]
  },
  {
   "cell_type": "code",
   "execution_count": 50,
   "metadata": {},
   "outputs": [
    {
     "data": {
      "text/plain": [
       "(486, 1)"
      ]
     },
     "execution_count": 50,
     "metadata": {},
     "output_type": "execute_result"
    }
   ],
   "source": [
    "yval1.shape"
   ]
  },
  {
   "cell_type": "code",
   "execution_count": 51,
   "metadata": {},
   "outputs": [
    {
     "data": {
      "text/plain": [
       "0.4156137542982287"
      ]
     },
     "execution_count": 51,
     "metadata": {},
     "output_type": "execute_result"
    }
   ],
   "source": [
    "matthews_corrcoef(yval1,predictions1)"
   ]
  },
  {
   "cell_type": "code",
   "execution_count": 54,
   "metadata": {},
   "outputs": [
    {
     "data": {
      "text/plain": [
       "RandomForestClassifier(max_depth=15, n_estimators=700)"
      ]
     },
     "execution_count": 54,
     "metadata": {},
     "output_type": "execute_result"
    }
   ],
   "source": [
    "model_1.best_estimator_"
   ]
  },
  {
   "cell_type": "code",
   "execution_count": 55,
   "metadata": {},
   "outputs": [
    {
     "data": {
      "text/plain": [
       "RandomForestClassifier(max_depth=15, n_estimators=200)"
      ]
     },
     "execution_count": 55,
     "metadata": {},
     "output_type": "execute_result"
    }
   ],
   "source": [
    "model_2.best_estimator_"
   ]
  },
  {
   "cell_type": "code",
   "execution_count": null,
   "metadata": {},
   "outputs": [],
   "source": [
    "submission = pd.DataFrame(ypred,columns=['Predicted'])\n",
    "submission.index.name = 'Id'\n",
    "#submission = pd.read_csv('dummy_submission.csv')\n",
    "submission.Predicted = np.array(ypred,dtype=int)\n",
    "submission.to_csv('RF(0.511).csv',index=True)\n",
    "print(submission.shape)"
   ]
  },
  {
   "cell_type": "code",
   "execution_count": null,
   "metadata": {},
   "outputs": [],
   "source": [
    "submission"
   ]
  },
  {
   "cell_type": "code",
   "execution_count": null,
   "metadata": {},
   "outputs": [],
   "source": []
  },
  {
   "cell_type": "code",
   "execution_count": null,
   "metadata": {},
   "outputs": [],
   "source": []
  },
  {
   "cell_type": "code",
   "execution_count": null,
   "metadata": {},
   "outputs": [],
   "source": []
  },
  {
   "cell_type": "code",
   "execution_count": null,
   "metadata": {},
   "outputs": [],
   "source": []
  }
 ],
 "metadata": {
  "kernelspec": {
   "display_name": "Python 3 (ipykernel)",
   "language": "python",
   "name": "python3"
  },
  "language_info": {
   "codemirror_mode": {
    "name": "ipython",
    "version": 3
   },
   "file_extension": ".py",
   "mimetype": "text/x-python",
   "name": "python",
   "nbconvert_exporter": "python",
   "pygments_lexer": "ipython3",
   "version": "3.8.10"
  }
 },
 "nbformat": 4,
 "nbformat_minor": 4
}
