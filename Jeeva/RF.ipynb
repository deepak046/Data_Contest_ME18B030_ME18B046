{
 "cells": [
  {
   "cell_type": "code",
   "execution_count": 1,
   "metadata": {},
   "outputs": [],
   "source": [
    "import pandas as pd\n",
    "import numpy as np\n",
    "\n",
    "from sklearn.ensemble import RandomForestClassifier, AdaBoostClassifier\n",
    "from sklearn.linear_model import LogisticRegression, RidgeClassifier\n",
    "from sklearn.neighbors import KNeighborsClassifier, RadiusNeighborsClassifier\n",
    "from sklearn.tree import DecisionTreeClassifier\n",
    "from sklearn.svm import SVC\n",
    "from sklearn.naive_bayes import GaussianNB, BernoulliNB\n",
    "from sklearn.discriminant_analysis import QuadraticDiscriminantAnalysis\n",
    "from sklearn.preprocessing import StandardScaler\n",
    "from sklearn.model_selection import train_test_split, KFold, GridSearchCV, ShuffleSplit, StratifiedShuffleSplit\n",
    "from sklearn.metrics import matthews_corrcoef, accuracy_score, make_scorer\n",
    "from sklearn.utils import resample\n",
    "from sklearn.decomposition import PCA, KernelPCA\n",
    "from sklearn.feature_selection import VarianceThreshold, SelectPercentile, SelectKBest, chi2\n",
    "from sklearn.pipeline import Pipeline\n",
    "\n",
    "from xgboost import XGBClassifier\n",
    "\n",
    "import matplotlib.pyplot as plt"
   ]
  },
  {
   "cell_type": "code",
   "execution_count": 2,
   "metadata": {},
   "outputs": [],
   "source": [
    "VALIDATION = False\n",
    "\n",
    "train1_df = pd.read_csv(f'PRML_Datacontest_MKN_JUL_2021/Dataset_1_Training.csv',index_col=0).T\n",
    "train2_df = pd.read_csv(f'PRML_Datacontest_MKN_JUL_2021/Dataset_2_Training.csv',index_col=0).T\n",
    "\n",
    "test1_df = pd.read_csv(f'PRML_Datacontest_MKN_JUL_2021/Dataset_1_Testing.csv',index_col=0).T\n",
    "test2_df = pd.read_csv(f'PRML_Datacontest_MKN_JUL_2021/Dataset_2_Testing.csv',index_col=0).T\n",
    "\n",
    "train1 = train1_df\n",
    "train2 = train2_df\n",
    "test1 = test1_df\n",
    "test2 = test2_df\n",
    "\n",
    "if(VALIDATION):\n",
    "    #Shuffling the dataset\n",
    "    valSize = int(train1.shape[0]*0.7)\n",
    "    train1 = train1.sample(frac=1).reset_index(drop=True)\n",
    "    test1 = train1[valSize:]\n",
    "    train1 = train1[:valSize]\n",
    "    \n",
    "    valSize = int(train2.shape[0]*0.7)\n",
    "    train2 = train2.sample(frac=1).reset_index(drop=True)\n",
    "    test2 = train2[valSize:]\n",
    "    train2 = train2[:valSize]"
   ]
  },
  {
   "cell_type": "code",
   "execution_count": 3,
   "metadata": {},
   "outputs": [
    {
     "name": "stdout",
     "output_type": "stream",
     "text": [
      "(130, 22285)\n",
      "(100, 22283)\n",
      "(340, 54679)\n",
      "(214, 54675)\n"
     ]
    }
   ],
   "source": [
    "print(train1.shape)\n",
    "print(test1.shape)\n",
    "print(train2.shape)\n",
    "print(test2.shape)"
   ]
  },
  {
   "cell_type": "code",
   "execution_count": 4,
   "metadata": {},
   "outputs": [],
   "source": [
    "test_cols1 = ['CO: 1','CO: 2']\n",
    "test_cols2 = ['CO: 3','CO: 4','CO: 5','CO: 6']\n",
    "test_cols = ['CO: 1','CO: 2','CO: 3','CO: 4','CO: 5','CO: 6']"
   ]
  },
  {
   "cell_type": "code",
   "execution_count": 5,
   "metadata": {},
   "outputs": [],
   "source": [
    "#For PCA RF\n",
    "random_grid = {'model__n_estimators': [10, 25, 50, 100, 250, 500],\n",
    "               'model__max_depth': [3, 5, 10, 25, None],\n",
    "               'select__k': [500,1000,1500,2000,2500]}\n",
    "\n",
    "# #For PCA SVC\n",
    "# random_grid = {'C': [0.25, 0.5, 1, 2.5, 5],\n",
    "#                'kernel': ['linear', 'poly', 'rbf'],\n",
    "#                'gamma': ['scale','auto']}"
   ]
  },
  {
   "cell_type": "code",
   "execution_count": 6,
   "metadata": {},
   "outputs": [],
   "source": [
    "default_param = random_grid\n",
    "default_model = RandomForestClassifier(random_state=0)\n",
    "def pred(train,test,col,model=default_model,params=default_param):\n",
    "    X = train.drop(test_cols, axis=1, errors='ignore')\n",
    "    y = np.array(train[[col]])\n",
    "    y = y.reshape(y.shape[0],)\n",
    "    Xtest = test.drop(test_cols, axis=1, errors='ignore')\n",
    "\n",
    "    if(VALIDATION): \n",
    "        ytest = test[[col]]\n",
    "        ytrue.extend(list(ytest[col]))\n",
    "        \n",
    "    pipe = Pipeline(steps=[(\"scale\", StandardScaler()),(\"select\", SelectKBest()), (\"model\", model)])\n",
    "    \n",
    "    model = GridSearchCV(pipe,params,verbose=1,n_jobs=4,cv=ShuffleSplit(n_splits=5,test_size=0.3,random_state=0))\n",
    "    model.fit(X,y)\n",
    "    best_params.append(model.best_params_)\n",
    "    print(model.best_params_)\n",
    "    \n",
    "    print(np.unique(model.predict(Xtest),return_counts=True))\n",
    "      \n",
    "    ypred.extend(model.predict(Xtest))   \n",
    "\n",
    "    if(VALIDATION): print(col,model.score(Xtest,ytest),accuracy_score(ytest,model.predict(Xtest)))\n",
    "    else: print(col)\n",
    "        \n",
    "    return pd.DataFrame(model.cv_results_).sort_values(by=['rank_test_score']).head(10)"
   ]
  },
  {
   "cell_type": "code",
   "execution_count": 7,
   "metadata": {},
   "outputs": [
    {
     "name": "stdout",
     "output_type": "stream",
     "text": [
      "Fitting 5 folds for each of 1 candidates, totalling 5 fits\n"
     ]
    },
    {
     "name": "stderr",
     "output_type": "stream",
     "text": [
      "[Parallel(n_jobs=4)]: Using backend LokyBackend with 4 concurrent workers.\n",
      "[Parallel(n_jobs=4)]: Done   5 out of   5 | elapsed:    3.5s finished\n"
     ]
    },
    {
     "name": "stdout",
     "output_type": "stream",
     "text": [
      "{'model__max_depth': 3, 'model__n_estimators': 25, 'select__k': 2500}\n",
      "(array([0., 1.]), array([74, 26], dtype=int64))\n",
      "CO: 1\n"
     ]
    },
    {
     "data": {
      "text/html": [
       "<div>\n",
       "<style scoped>\n",
       "    .dataframe tbody tr th:only-of-type {\n",
       "        vertical-align: middle;\n",
       "    }\n",
       "\n",
       "    .dataframe tbody tr th {\n",
       "        vertical-align: top;\n",
       "    }\n",
       "\n",
       "    .dataframe thead th {\n",
       "        text-align: right;\n",
       "    }\n",
       "</style>\n",
       "<table border=\"1\" class=\"dataframe\">\n",
       "  <thead>\n",
       "    <tr style=\"text-align: right;\">\n",
       "      <th></th>\n",
       "      <th>mean_fit_time</th>\n",
       "      <th>std_fit_time</th>\n",
       "      <th>mean_score_time</th>\n",
       "      <th>std_score_time</th>\n",
       "      <th>param_model__max_depth</th>\n",
       "      <th>param_model__n_estimators</th>\n",
       "      <th>param_select__k</th>\n",
       "      <th>params</th>\n",
       "      <th>split0_test_score</th>\n",
       "      <th>split1_test_score</th>\n",
       "      <th>split2_test_score</th>\n",
       "      <th>split3_test_score</th>\n",
       "      <th>split4_test_score</th>\n",
       "      <th>mean_test_score</th>\n",
       "      <th>std_test_score</th>\n",
       "      <th>rank_test_score</th>\n",
       "    </tr>\n",
       "  </thead>\n",
       "  <tbody>\n",
       "    <tr>\n",
       "      <th>0</th>\n",
       "      <td>0.583576</td>\n",
       "      <td>0.070572</td>\n",
       "      <td>0.159165</td>\n",
       "      <td>0.010823</td>\n",
       "      <td>3</td>\n",
       "      <td>25</td>\n",
       "      <td>2500</td>\n",
       "      <td>{'model__max_depth': 3, 'model__n_estimators':...</td>\n",
       "      <td>0.641026</td>\n",
       "      <td>0.846154</td>\n",
       "      <td>0.846154</td>\n",
       "      <td>0.666667</td>\n",
       "      <td>0.74359</td>\n",
       "      <td>0.748718</td>\n",
       "      <td>0.086422</td>\n",
       "      <td>1</td>\n",
       "    </tr>\n",
       "  </tbody>\n",
       "</table>\n",
       "</div>"
      ],
      "text/plain": [
       "   mean_fit_time  std_fit_time  mean_score_time  std_score_time  \\\n",
       "0       0.583576      0.070572         0.159165        0.010823   \n",
       "\n",
       "  param_model__max_depth param_model__n_estimators param_select__k  \\\n",
       "0                      3                        25            2500   \n",
       "\n",
       "                                              params  split0_test_score  \\\n",
       "0  {'model__max_depth': 3, 'model__n_estimators':...           0.641026   \n",
       "\n",
       "   split1_test_score  split2_test_score  split3_test_score  split4_test_score  \\\n",
       "0           0.846154           0.846154           0.666667            0.74359   \n",
       "\n",
       "   mean_test_score  std_test_score  rank_test_score  \n",
       "0         0.748718        0.086422                1  "
      ]
     },
     "execution_count": 7,
     "metadata": {},
     "output_type": "execute_result"
    }
   ],
   "source": [
    "ypred = []\n",
    "ytrue = []\n",
    "best_params = []\n",
    "\n",
    "random_grid = {'model__n_estimators': [25],\n",
    "               'model__max_depth': [3],\n",
    "               'select__k': [2500]}\n",
    "pred(train1,test1,'CO: 1',model=RandomForestClassifier(random_state=0),params=random_grid)\n",
    "# pred(train1,test1,'CO: 1')"
   ]
  },
  {
   "cell_type": "code",
   "execution_count": 8,
   "metadata": {},
   "outputs": [
    {
     "name": "stdout",
     "output_type": "stream",
     "text": [
      "Fitting 5 folds for each of 1 candidates, totalling 5 fits\n"
     ]
    },
    {
     "name": "stderr",
     "output_type": "stream",
     "text": [
      "[Parallel(n_jobs=4)]: Using backend LokyBackend with 4 concurrent workers.\n",
      "[Parallel(n_jobs=4)]: Done   5 out of   5 | elapsed:    1.6s finished\n"
     ]
    },
    {
     "name": "stdout",
     "output_type": "stream",
     "text": [
      "{'model__max_depth': 3, 'model__n_estimators': 50, 'select__k': 500}\n",
      "(array([0., 1.]), array([65, 35], dtype=int64))\n",
      "CO: 2\n"
     ]
    },
    {
     "data": {
      "text/html": [
       "<div>\n",
       "<style scoped>\n",
       "    .dataframe tbody tr th:only-of-type {\n",
       "        vertical-align: middle;\n",
       "    }\n",
       "\n",
       "    .dataframe tbody tr th {\n",
       "        vertical-align: top;\n",
       "    }\n",
       "\n",
       "    .dataframe thead th {\n",
       "        text-align: right;\n",
       "    }\n",
       "</style>\n",
       "<table border=\"1\" class=\"dataframe\">\n",
       "  <thead>\n",
       "    <tr style=\"text-align: right;\">\n",
       "      <th></th>\n",
       "      <th>mean_fit_time</th>\n",
       "      <th>std_fit_time</th>\n",
       "      <th>mean_score_time</th>\n",
       "      <th>std_score_time</th>\n",
       "      <th>param_model__max_depth</th>\n",
       "      <th>param_model__n_estimators</th>\n",
       "      <th>param_select__k</th>\n",
       "      <th>params</th>\n",
       "      <th>split0_test_score</th>\n",
       "      <th>split1_test_score</th>\n",
       "      <th>split2_test_score</th>\n",
       "      <th>split3_test_score</th>\n",
       "      <th>split4_test_score</th>\n",
       "      <th>mean_test_score</th>\n",
       "      <th>std_test_score</th>\n",
       "      <th>rank_test_score</th>\n",
       "    </tr>\n",
       "  </thead>\n",
       "  <tbody>\n",
       "    <tr>\n",
       "      <th>0</th>\n",
       "      <td>0.647231</td>\n",
       "      <td>0.017434</td>\n",
       "      <td>0.186781</td>\n",
       "      <td>0.01995</td>\n",
       "      <td>3</td>\n",
       "      <td>50</td>\n",
       "      <td>500</td>\n",
       "      <td>{'model__max_depth': 3, 'model__n_estimators':...</td>\n",
       "      <td>0.769231</td>\n",
       "      <td>0.74359</td>\n",
       "      <td>0.641026</td>\n",
       "      <td>0.717949</td>\n",
       "      <td>0.666667</td>\n",
       "      <td>0.707692</td>\n",
       "      <td>0.047557</td>\n",
       "      <td>1</td>\n",
       "    </tr>\n",
       "  </tbody>\n",
       "</table>\n",
       "</div>"
      ],
      "text/plain": [
       "   mean_fit_time  std_fit_time  mean_score_time  std_score_time  \\\n",
       "0       0.647231      0.017434         0.186781         0.01995   \n",
       "\n",
       "  param_model__max_depth param_model__n_estimators param_select__k  \\\n",
       "0                      3                        50             500   \n",
       "\n",
       "                                              params  split0_test_score  \\\n",
       "0  {'model__max_depth': 3, 'model__n_estimators':...           0.769231   \n",
       "\n",
       "   split1_test_score  split2_test_score  split3_test_score  split4_test_score  \\\n",
       "0            0.74359           0.641026           0.717949           0.666667   \n",
       "\n",
       "   mean_test_score  std_test_score  rank_test_score  \n",
       "0         0.707692        0.047557                1  "
      ]
     },
     "execution_count": 8,
     "metadata": {},
     "output_type": "execute_result"
    }
   ],
   "source": [
    "random_grid = {'model__n_estimators': [50],\n",
    "               'model__max_depth': [3],\n",
    "               'select__k': [500]}\n",
    "pred(train1,test1,'CO: 2',params=random_grid)\n",
    "#pred(train1,test1,'CO: 2')"
   ]
  },
  {
   "cell_type": "code",
   "execution_count": 9,
   "metadata": {},
   "outputs": [
    {
     "name": "stdout",
     "output_type": "stream",
     "text": [
      "Fitting 5 folds for each of 1 candidates, totalling 5 fits\n"
     ]
    },
    {
     "name": "stderr",
     "output_type": "stream",
     "text": [
      "[Parallel(n_jobs=4)]: Using backend LokyBackend with 4 concurrent workers.\n",
      "[Parallel(n_jobs=4)]: Done   5 out of   5 | elapsed:    5.5s finished\n"
     ]
    },
    {
     "name": "stdout",
     "output_type": "stream",
     "text": [
      "{'model__max_depth': 5, 'model__n_estimators': 200, 'select__k': 2500}\n",
      "(array([0., 1.]), array([196,  18], dtype=int64))\n",
      "CO: 3\n"
     ]
    },
    {
     "data": {
      "text/html": [
       "<div>\n",
       "<style scoped>\n",
       "    .dataframe tbody tr th:only-of-type {\n",
       "        vertical-align: middle;\n",
       "    }\n",
       "\n",
       "    .dataframe tbody tr th {\n",
       "        vertical-align: top;\n",
       "    }\n",
       "\n",
       "    .dataframe thead th {\n",
       "        text-align: right;\n",
       "    }\n",
       "</style>\n",
       "<table border=\"1\" class=\"dataframe\">\n",
       "  <thead>\n",
       "    <tr style=\"text-align: right;\">\n",
       "      <th></th>\n",
       "      <th>mean_fit_time</th>\n",
       "      <th>std_fit_time</th>\n",
       "      <th>mean_score_time</th>\n",
       "      <th>std_score_time</th>\n",
       "      <th>param_model__max_depth</th>\n",
       "      <th>param_model__n_estimators</th>\n",
       "      <th>param_select__k</th>\n",
       "      <th>params</th>\n",
       "      <th>split0_test_score</th>\n",
       "      <th>split1_test_score</th>\n",
       "      <th>split2_test_score</th>\n",
       "      <th>split3_test_score</th>\n",
       "      <th>split4_test_score</th>\n",
       "      <th>mean_test_score</th>\n",
       "      <th>std_test_score</th>\n",
       "      <th>rank_test_score</th>\n",
       "    </tr>\n",
       "  </thead>\n",
       "  <tbody>\n",
       "    <tr>\n",
       "      <th>0</th>\n",
       "      <td>2.70706</td>\n",
       "      <td>0.4903</td>\n",
       "      <td>0.318426</td>\n",
       "      <td>0.045525</td>\n",
       "      <td>5</td>\n",
       "      <td>200</td>\n",
       "      <td>2500</td>\n",
       "      <td>{'model__max_depth': 5, 'model__n_estimators':...</td>\n",
       "      <td>0.666667</td>\n",
       "      <td>0.735294</td>\n",
       "      <td>0.823529</td>\n",
       "      <td>0.813725</td>\n",
       "      <td>0.745098</td>\n",
       "      <td>0.756863</td>\n",
       "      <td>0.057301</td>\n",
       "      <td>1</td>\n",
       "    </tr>\n",
       "  </tbody>\n",
       "</table>\n",
       "</div>"
      ],
      "text/plain": [
       "   mean_fit_time  std_fit_time  mean_score_time  std_score_time  \\\n",
       "0        2.70706        0.4903         0.318426        0.045525   \n",
       "\n",
       "  param_model__max_depth param_model__n_estimators param_select__k  \\\n",
       "0                      5                       200            2500   \n",
       "\n",
       "                                              params  split0_test_score  \\\n",
       "0  {'model__max_depth': 5, 'model__n_estimators':...           0.666667   \n",
       "\n",
       "   split1_test_score  split2_test_score  split3_test_score  split4_test_score  \\\n",
       "0           0.735294           0.823529           0.813725           0.745098   \n",
       "\n",
       "   mean_test_score  std_test_score  rank_test_score  \n",
       "0         0.756863        0.057301                1  "
      ]
     },
     "execution_count": 9,
     "metadata": {},
     "output_type": "execute_result"
    }
   ],
   "source": [
    "random_grid = {'model__n_estimators': [200],\n",
    "               'model__max_depth': [5],\n",
    "               'select__k': [2500]}\n",
    "pred(train2,test2,'CO: 3',params=random_grid)\n",
    "#pred(train2,test2,'CO: 3')"
   ]
  },
  {
   "cell_type": "code",
   "execution_count": 10,
   "metadata": {},
   "outputs": [
    {
     "name": "stdout",
     "output_type": "stream",
     "text": [
      "Fitting 5 folds for each of 1 candidates, totalling 5 fits\n"
     ]
    },
    {
     "name": "stderr",
     "output_type": "stream",
     "text": [
      "[Parallel(n_jobs=4)]: Using backend LokyBackend with 4 concurrent workers.\n",
      "[Parallel(n_jobs=4)]: Done   5 out of   5 | elapsed:    3.9s finished\n"
     ]
    },
    {
     "name": "stdout",
     "output_type": "stream",
     "text": [
      "{'model__max_depth': 5, 'model__n_estimators': 25, 'select__k': 1500}\n",
      "(array([0., 1.]), array([207,   7], dtype=int64))\n",
      "CO: 4\n"
     ]
    },
    {
     "data": {
      "text/html": [
       "<div>\n",
       "<style scoped>\n",
       "    .dataframe tbody tr th:only-of-type {\n",
       "        vertical-align: middle;\n",
       "    }\n",
       "\n",
       "    .dataframe tbody tr th {\n",
       "        vertical-align: top;\n",
       "    }\n",
       "\n",
       "    .dataframe thead th {\n",
       "        text-align: right;\n",
       "    }\n",
       "</style>\n",
       "<table border=\"1\" class=\"dataframe\">\n",
       "  <thead>\n",
       "    <tr style=\"text-align: right;\">\n",
       "      <th></th>\n",
       "      <th>mean_fit_time</th>\n",
       "      <th>std_fit_time</th>\n",
       "      <th>mean_score_time</th>\n",
       "      <th>std_score_time</th>\n",
       "      <th>param_model__max_depth</th>\n",
       "      <th>param_model__n_estimators</th>\n",
       "      <th>param_select__k</th>\n",
       "      <th>params</th>\n",
       "      <th>split0_test_score</th>\n",
       "      <th>split1_test_score</th>\n",
       "      <th>split2_test_score</th>\n",
       "      <th>split3_test_score</th>\n",
       "      <th>split4_test_score</th>\n",
       "      <th>mean_test_score</th>\n",
       "      <th>std_test_score</th>\n",
       "      <th>rank_test_score</th>\n",
       "    </tr>\n",
       "  </thead>\n",
       "  <tbody>\n",
       "    <tr>\n",
       "      <th>0</th>\n",
       "      <td>1.826826</td>\n",
       "      <td>0.3662</td>\n",
       "      <td>0.382204</td>\n",
       "      <td>0.081694</td>\n",
       "      <td>5</td>\n",
       "      <td>25</td>\n",
       "      <td>1500</td>\n",
       "      <td>{'model__max_depth': 5, 'model__n_estimators':...</td>\n",
       "      <td>0.803922</td>\n",
       "      <td>0.803922</td>\n",
       "      <td>0.882353</td>\n",
       "      <td>0.852941</td>\n",
       "      <td>0.872549</td>\n",
       "      <td>0.843137</td>\n",
       "      <td>0.033391</td>\n",
       "      <td>1</td>\n",
       "    </tr>\n",
       "  </tbody>\n",
       "</table>\n",
       "</div>"
      ],
      "text/plain": [
       "   mean_fit_time  std_fit_time  mean_score_time  std_score_time  \\\n",
       "0       1.826826        0.3662         0.382204        0.081694   \n",
       "\n",
       "  param_model__max_depth param_model__n_estimators param_select__k  \\\n",
       "0                      5                        25            1500   \n",
       "\n",
       "                                              params  split0_test_score  \\\n",
       "0  {'model__max_depth': 5, 'model__n_estimators':...           0.803922   \n",
       "\n",
       "   split1_test_score  split2_test_score  split3_test_score  split4_test_score  \\\n",
       "0           0.803922           0.882353           0.852941           0.872549   \n",
       "\n",
       "   mean_test_score  std_test_score  rank_test_score  \n",
       "0         0.843137        0.033391                1  "
      ]
     },
     "execution_count": 10,
     "metadata": {},
     "output_type": "execute_result"
    }
   ],
   "source": [
    "random_grid = {'model__n_estimators': [25],\n",
    "               'model__max_depth': [5],\n",
    "               'select__k': [1500]}\n",
    "pred(train2,test2,'CO: 4',params=random_grid)\n",
    "#pred(train2,test2,'CO: 4')"
   ]
  },
  {
   "cell_type": "code",
   "execution_count": 11,
   "metadata": {},
   "outputs": [
    {
     "name": "stdout",
     "output_type": "stream",
     "text": [
      "Fitting 5 folds for each of 1 candidates, totalling 5 fits\n"
     ]
    },
    {
     "name": "stderr",
     "output_type": "stream",
     "text": [
      "[Parallel(n_jobs=4)]: Using backend LokyBackend with 4 concurrent workers.\n",
      "[Parallel(n_jobs=4)]: Done   5 out of   5 | elapsed:    3.9s finished\n"
     ]
    },
    {
     "name": "stdout",
     "output_type": "stream",
     "text": [
      "{'model__max_depth': 5, 'model__n_estimators': 50, 'select__k': 500}\n",
      "(array([0., 1.]), array([128,  86], dtype=int64))\n",
      "CO: 5\n"
     ]
    },
    {
     "data": {
      "text/html": [
       "<div>\n",
       "<style scoped>\n",
       "    .dataframe tbody tr th:only-of-type {\n",
       "        vertical-align: middle;\n",
       "    }\n",
       "\n",
       "    .dataframe tbody tr th {\n",
       "        vertical-align: top;\n",
       "    }\n",
       "\n",
       "    .dataframe thead th {\n",
       "        text-align: right;\n",
       "    }\n",
       "</style>\n",
       "<table border=\"1\" class=\"dataframe\">\n",
       "  <thead>\n",
       "    <tr style=\"text-align: right;\">\n",
       "      <th></th>\n",
       "      <th>mean_fit_time</th>\n",
       "      <th>std_fit_time</th>\n",
       "      <th>mean_score_time</th>\n",
       "      <th>std_score_time</th>\n",
       "      <th>param_model__max_depth</th>\n",
       "      <th>param_model__n_estimators</th>\n",
       "      <th>param_select__k</th>\n",
       "      <th>params</th>\n",
       "      <th>split0_test_score</th>\n",
       "      <th>split1_test_score</th>\n",
       "      <th>split2_test_score</th>\n",
       "      <th>split3_test_score</th>\n",
       "      <th>split4_test_score</th>\n",
       "      <th>mean_test_score</th>\n",
       "      <th>std_test_score</th>\n",
       "      <th>rank_test_score</th>\n",
       "    </tr>\n",
       "  </thead>\n",
       "  <tbody>\n",
       "    <tr>\n",
       "      <th>0</th>\n",
       "      <td>1.849647</td>\n",
       "      <td>0.334896</td>\n",
       "      <td>0.33681</td>\n",
       "      <td>0.062077</td>\n",
       "      <td>5</td>\n",
       "      <td>50</td>\n",
       "      <td>500</td>\n",
       "      <td>{'model__max_depth': 5, 'model__n_estimators':...</td>\n",
       "      <td>0.901961</td>\n",
       "      <td>0.852941</td>\n",
       "      <td>0.921569</td>\n",
       "      <td>0.911765</td>\n",
       "      <td>0.862745</td>\n",
       "      <td>0.890196</td>\n",
       "      <td>0.027311</td>\n",
       "      <td>1</td>\n",
       "    </tr>\n",
       "  </tbody>\n",
       "</table>\n",
       "</div>"
      ],
      "text/plain": [
       "   mean_fit_time  std_fit_time  mean_score_time  std_score_time  \\\n",
       "0       1.849647      0.334896          0.33681        0.062077   \n",
       "\n",
       "  param_model__max_depth param_model__n_estimators param_select__k  \\\n",
       "0                      5                        50             500   \n",
       "\n",
       "                                              params  split0_test_score  \\\n",
       "0  {'model__max_depth': 5, 'model__n_estimators':...           0.901961   \n",
       "\n",
       "   split1_test_score  split2_test_score  split3_test_score  split4_test_score  \\\n",
       "0           0.852941           0.921569           0.911765           0.862745   \n",
       "\n",
       "   mean_test_score  std_test_score  rank_test_score  \n",
       "0         0.890196        0.027311                1  "
      ]
     },
     "execution_count": 11,
     "metadata": {},
     "output_type": "execute_result"
    }
   ],
   "source": [
    "random_grid = {'model__n_estimators': [50],\n",
    "               'model__max_depth': [5],\n",
    "               'select__k': [500]}\n",
    "pred(train2,test2,'CO: 5',params=random_grid)\n",
    "#pred(train2,test2,'CO: 5')"
   ]
  },
  {
   "cell_type": "code",
   "execution_count": 12,
   "metadata": {},
   "outputs": [
    {
     "name": "stdout",
     "output_type": "stream",
     "text": [
      "Fitting 5 folds for each of 1 candidates, totalling 5 fits\n"
     ]
    },
    {
     "name": "stderr",
     "output_type": "stream",
     "text": [
      "[Parallel(n_jobs=4)]: Using backend LokyBackend with 4 concurrent workers.\n",
      "[Parallel(n_jobs=4)]: Done   5 out of   5 | elapsed:    3.9s finished\n"
     ]
    },
    {
     "name": "stdout",
     "output_type": "stream",
     "text": [
      "{'model__C': 0.25, 'model__kernel': 'poly', 'select__k': 1500}\n",
      "(array([0., 1.]), array([ 15, 199], dtype=int64))\n",
      "CO: 6\n"
     ]
    },
    {
     "data": {
      "text/html": [
       "<div>\n",
       "<style scoped>\n",
       "    .dataframe tbody tr th:only-of-type {\n",
       "        vertical-align: middle;\n",
       "    }\n",
       "\n",
       "    .dataframe tbody tr th {\n",
       "        vertical-align: top;\n",
       "    }\n",
       "\n",
       "    .dataframe thead th {\n",
       "        text-align: right;\n",
       "    }\n",
       "</style>\n",
       "<table border=\"1\" class=\"dataframe\">\n",
       "  <thead>\n",
       "    <tr style=\"text-align: right;\">\n",
       "      <th></th>\n",
       "      <th>mean_fit_time</th>\n",
       "      <th>std_fit_time</th>\n",
       "      <th>mean_score_time</th>\n",
       "      <th>std_score_time</th>\n",
       "      <th>param_model__C</th>\n",
       "      <th>param_model__kernel</th>\n",
       "      <th>param_select__k</th>\n",
       "      <th>params</th>\n",
       "      <th>split0_test_score</th>\n",
       "      <th>split1_test_score</th>\n",
       "      <th>split2_test_score</th>\n",
       "      <th>split3_test_score</th>\n",
       "      <th>split4_test_score</th>\n",
       "      <th>mean_test_score</th>\n",
       "      <th>std_test_score</th>\n",
       "      <th>rank_test_score</th>\n",
       "    </tr>\n",
       "  </thead>\n",
       "  <tbody>\n",
       "    <tr>\n",
       "      <th>0</th>\n",
       "      <td>1.851841</td>\n",
       "      <td>0.315024</td>\n",
       "      <td>0.407531</td>\n",
       "      <td>0.069975</td>\n",
       "      <td>0.25</td>\n",
       "      <td>poly</td>\n",
       "      <td>1500</td>\n",
       "      <td>{'model__C': 0.25, 'model__kernel': 'poly', 's...</td>\n",
       "      <td>0.607843</td>\n",
       "      <td>0.54902</td>\n",
       "      <td>0.578431</td>\n",
       "      <td>0.54902</td>\n",
       "      <td>0.637255</td>\n",
       "      <td>0.584314</td>\n",
       "      <td>0.0343</td>\n",
       "      <td>1</td>\n",
       "    </tr>\n",
       "  </tbody>\n",
       "</table>\n",
       "</div>"
      ],
      "text/plain": [
       "   mean_fit_time  std_fit_time  mean_score_time  std_score_time  \\\n",
       "0       1.851841      0.315024         0.407531        0.069975   \n",
       "\n",
       "  param_model__C param_model__kernel param_select__k  \\\n",
       "0           0.25                poly            1500   \n",
       "\n",
       "                                              params  split0_test_score  \\\n",
       "0  {'model__C': 0.25, 'model__kernel': 'poly', 's...           0.607843   \n",
       "\n",
       "   split1_test_score  split2_test_score  split3_test_score  split4_test_score  \\\n",
       "0            0.54902           0.578431            0.54902           0.637255   \n",
       "\n",
       "   mean_test_score  std_test_score  rank_test_score  \n",
       "0         0.584314          0.0343                1  "
      ]
     },
     "execution_count": 12,
     "metadata": {},
     "output_type": "execute_result"
    }
   ],
   "source": [
    "svc_grid = {'model__kernel': ['poly'],\n",
    "            'model__C': [0.25],\n",
    "            'select__k': [1500]}\n",
    "pred(train2,test2,'CO: 6',SVC(random_state=0),svc_grid)"
   ]
  },
  {
   "cell_type": "code",
   "execution_count": 13,
   "metadata": {},
   "outputs": [],
   "source": [
    "# pred(train1,test1,'CO: 1')\n",
    "# pred(train1,test1,'CO: 2')\n",
    "\n",
    "# pred(train2,test2,'CO: 3')\n",
    "# pred(train2,test2,'CO: 4')\n",
    "# pred(train2,test2,'CO: 5')\n",
    "# pred(train2,test2,'CO: 6')"
   ]
  },
  {
   "cell_type": "code",
   "execution_count": 14,
   "metadata": {},
   "outputs": [
    {
     "name": "stdout",
     "output_type": "stream",
     "text": [
      "[{'model__max_depth': 3, 'model__n_estimators': 25, 'select__k': 2500}, {'model__max_depth': 3, 'model__n_estimators': 50, 'select__k': 500}, {'model__max_depth': 5, 'model__n_estimators': 200, 'select__k': 2500}, {'model__max_depth': 5, 'model__n_estimators': 25, 'select__k': 1500}, {'model__max_depth': 5, 'model__n_estimators': 50, 'select__k': 500}, {'model__C': 0.25, 'model__kernel': 'poly', 'select__k': 1500}]\n"
     ]
    }
   ],
   "source": [
    "print(best_params)"
   ]
  },
  {
   "cell_type": "code",
   "execution_count": 15,
   "metadata": {},
   "outputs": [
    {
     "name": "stdout",
     "output_type": "stream",
     "text": [
      "(1056, 2)\n"
     ]
    }
   ],
   "source": [
    "if(VALIDATION):\n",
    "    print(matthews_corrcoef(ytrue,ypred))\n",
    "else:\n",
    "    submission = pd.read_csv('dummy_submission.csv')\n",
    "    submission.Predicted = np.array(ypred,dtype=int)\n",
    "    submission.to_csv('Final.csv',index=False)\n",
    "    print(submission.shape)"
   ]
  },
  {
   "cell_type": "code",
   "execution_count": null,
   "metadata": {},
   "outputs": [],
   "source": []
  },
  {
   "cell_type": "code",
   "execution_count": 16,
   "metadata": {},
   "outputs": [
    {
     "data": {
      "text/html": [
       "<div>\n",
       "<style scoped>\n",
       "    .dataframe tbody tr th:only-of-type {\n",
       "        vertical-align: middle;\n",
       "    }\n",
       "\n",
       "    .dataframe tbody tr th {\n",
       "        vertical-align: top;\n",
       "    }\n",
       "\n",
       "    .dataframe thead th {\n",
       "        text-align: right;\n",
       "    }\n",
       "</style>\n",
       "<table border=\"1\" class=\"dataframe\">\n",
       "  <thead>\n",
       "    <tr style=\"text-align: right;\">\n",
       "      <th></th>\n",
       "      <th>Id</th>\n",
       "      <th>Predicted</th>\n",
       "    </tr>\n",
       "  </thead>\n",
       "  <tbody>\n",
       "    <tr>\n",
       "      <th>0</th>\n",
       "      <td>0</td>\n",
       "      <td>0</td>\n",
       "    </tr>\n",
       "    <tr>\n",
       "      <th>1</th>\n",
       "      <td>1</td>\n",
       "      <td>0</td>\n",
       "    </tr>\n",
       "    <tr>\n",
       "      <th>2</th>\n",
       "      <td>2</td>\n",
       "      <td>0</td>\n",
       "    </tr>\n",
       "    <tr>\n",
       "      <th>3</th>\n",
       "      <td>3</td>\n",
       "      <td>0</td>\n",
       "    </tr>\n",
       "    <tr>\n",
       "      <th>4</th>\n",
       "      <td>4</td>\n",
       "      <td>0</td>\n",
       "    </tr>\n",
       "    <tr>\n",
       "      <th>...</th>\n",
       "      <td>...</td>\n",
       "      <td>...</td>\n",
       "    </tr>\n",
       "    <tr>\n",
       "      <th>1051</th>\n",
       "      <td>1051</td>\n",
       "      <td>1</td>\n",
       "    </tr>\n",
       "    <tr>\n",
       "      <th>1052</th>\n",
       "      <td>1052</td>\n",
       "      <td>1</td>\n",
       "    </tr>\n",
       "    <tr>\n",
       "      <th>1053</th>\n",
       "      <td>1053</td>\n",
       "      <td>1</td>\n",
       "    </tr>\n",
       "    <tr>\n",
       "      <th>1054</th>\n",
       "      <td>1054</td>\n",
       "      <td>1</td>\n",
       "    </tr>\n",
       "    <tr>\n",
       "      <th>1055</th>\n",
       "      <td>1055</td>\n",
       "      <td>1</td>\n",
       "    </tr>\n",
       "  </tbody>\n",
       "</table>\n",
       "<p>1056 rows × 2 columns</p>\n",
       "</div>"
      ],
      "text/plain": [
       "        Id  Predicted\n",
       "0        0          0\n",
       "1        1          0\n",
       "2        2          0\n",
       "3        3          0\n",
       "4        4          0\n",
       "...    ...        ...\n",
       "1051  1051          1\n",
       "1052  1052          1\n",
       "1053  1053          1\n",
       "1054  1054          1\n",
       "1055  1055          1\n",
       "\n",
       "[1056 rows x 2 columns]"
      ]
     },
     "execution_count": 16,
     "metadata": {},
     "output_type": "execute_result"
    }
   ],
   "source": [
    "df = pd.read_csv('IGiveUp.csv')\n",
    "df"
   ]
  },
  {
   "cell_type": "code",
   "execution_count": 17,
   "metadata": {},
   "outputs": [
    {
     "name": "stdout",
     "output_type": "stream",
     "text": [
      "(array([0, 1], dtype=int64), array([74, 26], dtype=int64))\n",
      "(array([0, 1], dtype=int64), array([65, 35], dtype=int64))\n",
      "(array([0, 1], dtype=int64), array([196,  18], dtype=int64))\n",
      "(array([0, 1], dtype=int64), array([207,   7], dtype=int64))\n",
      "(array([0, 1], dtype=int64), array([128,  86], dtype=int64))\n",
      "(array([0, 1], dtype=int64), array([ 15, 199], dtype=int64))\n"
     ]
    }
   ],
   "source": [
    "print(np.unique(df['Predicted'][:100],return_counts=True))\n",
    "print(np.unique(df['Predicted'][100:200],return_counts=True))\n",
    "\n",
    "print(np.unique(df['Predicted'][200:414],return_counts=True))\n",
    "print(np.unique(df['Predicted'][414:628],return_counts=True))\n",
    "print(np.unique(df['Predicted'][628:842],return_counts=True))\n",
    "print(np.unique(df['Predicted'][842:1056],return_counts=True))"
   ]
  },
  {
   "cell_type": "code",
   "execution_count": 18,
   "metadata": {},
   "outputs": [
    {
     "data": {
      "text/plain": [
       "array([[685,   0],\n",
       "       [  0, 371]], dtype=int64)"
      ]
     },
     "execution_count": 18,
     "metadata": {},
     "output_type": "execute_result"
    }
   ],
   "source": [
    "from sklearn.metrics import confusion_matrix\n",
    "df1 = pd.read_csv('Final.csv')\n",
    "confusion_matrix(df['Predicted'],df1['Predicted'])"
   ]
  },
  {
   "cell_type": "code",
   "execution_count": 19,
   "metadata": {},
   "outputs": [
    {
     "name": "stdout",
     "output_type": "stream",
     "text": [
      "(array([0, 1], dtype=int64), array([74, 26], dtype=int64))\n",
      "(array([0, 1], dtype=int64), array([65, 35], dtype=int64))\n",
      "(array([0, 1], dtype=int64), array([196,  18], dtype=int64))\n",
      "(array([0, 1], dtype=int64), array([207,   7], dtype=int64))\n",
      "(array([0, 1], dtype=int64), array([128,  86], dtype=int64))\n",
      "(array([0, 1], dtype=int64), array([ 15, 199], dtype=int64))\n"
     ]
    }
   ],
   "source": [
    "print(np.unique(df1['Predicted'][:100],return_counts=True))\n",
    "print(np.unique(df1['Predicted'][100:200],return_counts=True))\n",
    "\n",
    "print(np.unique(df1['Predicted'][200:414],return_counts=True))\n",
    "print(np.unique(df1['Predicted'][414:628],return_counts=True))\n",
    "print(np.unique(df1['Predicted'][628:842],return_counts=True))\n",
    "print(np.unique(df1['Predicted'][842:1056],return_counts=True))"
   ]
  },
  {
   "cell_type": "code",
   "execution_count": null,
   "metadata": {},
   "outputs": [],
   "source": []
  },
  {
   "cell_type": "code",
   "execution_count": null,
   "metadata": {},
   "outputs": [],
   "source": []
  }
 ],
 "metadata": {
  "kernelspec": {
   "display_name": "Python 3",
   "language": "python",
   "name": "python3"
  },
  "language_info": {
   "codemirror_mode": {
    "name": "ipython",
    "version": 3
   },
   "file_extension": ".py",
   "mimetype": "text/x-python",
   "name": "python",
   "nbconvert_exporter": "python",
   "pygments_lexer": "ipython3",
   "version": "3.8.5"
  }
 },
 "nbformat": 4,
 "nbformat_minor": 4
}
