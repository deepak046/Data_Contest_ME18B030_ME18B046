{
 "cells": [
  {
   "cell_type": "code",
   "execution_count": 1,
   "metadata": {},
   "outputs": [],
   "source": [
    "import pandas as pd\n",
    "import numpy as np\n",
    "\n",
    "from sklearn.ensemble import RandomForestClassifier, AdaBoostClassifier\n",
    "from sklearn.linear_model import LogisticRegression\n",
    "from sklearn.neighbors import KNeighborsClassifier\n",
    "from sklearn.tree import DecisionTreeClassifier\n",
    "from sklearn.svm import SVC\n",
    "from sklearn.naive_bayes import GaussianNB, BernoulliNB, MultinomialNB\n",
    "from sklearn.discriminant_analysis import QuadraticDiscriminantAnalysis\n",
    "from sklearn.gaussian_process import GaussianProcessClassifier\n",
    "from sklearn.gaussian_process.kernels import RBF\n",
    "\n",
    "from sklearn import preprocessing\n",
    "from sklearn.model_selection import train_test_split, KFold, GridSearchCV, ShuffleSplit, StratifiedShuffleSplit\n",
    "from sklearn.metrics import matthews_corrcoef, accuracy_score, make_scorer\n",
    "from sklearn.utils import resample\n",
    "from sklearn.decomposition import PCA, KernelPCA\n",
    "from sklearn.feature_selection import VarianceThreshold, SelectPercentile, SelectKBest, chi2\n",
    "\n",
    "from xgboost import XGBClassifier\n",
    "\n",
    "import matplotlib.pyplot as plt\n",
    "\n",
    "import warnings\n",
    "warnings.filterwarnings('ignore') "
   ]
  },
  {
   "cell_type": "code",
   "execution_count": 2,
   "metadata": {},
   "outputs": [],
   "source": [
    "VALIDATION = True\n",
    "\n",
    "train1_df = pd.read_csv(f'PRML_Datacontest_MKN_JUL_2021/Dataset_1_Training.csv',index_col=0).T\n",
    "train2_df = pd.read_csv(f'PRML_Datacontest_MKN_JUL_2021/Dataset_2_Training.csv',index_col=0).T\n",
    "\n",
    "test1_df = pd.read_csv(f'PRML_Datacontest_MKN_JUL_2021/Dataset_1_Testing.csv',index_col=0).T\n",
    "test2_df = pd.read_csv(f'PRML_Datacontest_MKN_JUL_2021/Dataset_2_Testing.csv',index_col=0).T\n",
    "\n",
    "train1 = train1_df\n",
    "train2 = train2_df\n",
    "test1 = test1_df\n",
    "test2 = test2_df\n",
    "\n",
    "if(VALIDATION):\n",
    "    #Shuffling the dataset\n",
    "    valSize = int(train1.shape[0]*0.7)\n",
    "    train1 = train1.sample(frac=1).reset_index(drop=True)\n",
    "    test1 = train1[valSize:]\n",
    "    train1 = train1[:valSize]\n",
    "    \n",
    "    valSize = int(train2.shape[0]*0.7)\n",
    "    train2 = train2.sample(frac=1).reset_index(drop=True)\n",
    "    test2 = train2[valSize:]\n",
    "    train2 = train2[:valSize]"
   ]
  },
  {
   "cell_type": "code",
   "execution_count": 3,
   "metadata": {},
   "outputs": [
    {
     "name": "stdout",
     "output_type": "stream",
     "text": [
      "(91, 22285)\n",
      "(39, 22285)\n",
      "(237, 54679)\n",
      "(103, 54679)\n"
     ]
    }
   ],
   "source": [
    "print(train1.shape)\n",
    "print(test1.shape)\n",
    "print(train2.shape)\n",
    "print(test2.shape)"
   ]
  },
  {
   "cell_type": "code",
   "execution_count": 4,
   "metadata": {},
   "outputs": [],
   "source": [
    "test_cols1 = ['CO: 1','CO: 2']\n",
    "test_cols2 = ['CO: 3','CO: 4','CO: 5','CO: 6']\n",
    "test_cols = ['CO: 1','CO: 2','CO: 3','CO: 4','CO: 5','CO: 6']"
   ]
  },
  {
   "cell_type": "code",
   "execution_count": 5,
   "metadata": {},
   "outputs": [],
   "source": [
    "models = [RandomForestClassifier(n_jobs=-1, random_state=0),\n",
    "          DecisionTreeClassifier(random_state=0),]\n",
    "#           AdaBoostClassifier(random_state=0),]\n",
    "\n",
    "\n",
    "def feat_imp(train,test,col):\n",
    "    X = train.drop(test_cols, axis=1, errors='ignore')\n",
    "    y = np.array(train[[col]])\n",
    "    y = y.reshape(y.shape[0],)\n",
    "    Xtest = test.drop(test_cols, axis=1, errors='ignore')\n",
    "    \n",
    "    scaler = preprocessing.StandardScaler()\n",
    "    scaledX = scaler.fit_transform(X)\n",
    "    \n",
    "    scaledXtest = scaler.transform(Xtest)\n",
    "    \n",
    "    feat_set = set()\n",
    "    \n",
    "    for model in models:\n",
    "        model.fit(X,y)\n",
    "        feat_set.update(model.feature_importances_.nonzero()[0])\n",
    "    \n",
    "    print(col,len(feat_set))\n",
    "    return feat_set"
   ]
  },
  {
   "cell_type": "code",
   "execution_count": 6,
   "metadata": {},
   "outputs": [
    {
     "name": "stdout",
     "output_type": "stream",
     "text": [
      "CO: 1 593\n",
      "CO: 2 707\n",
      "CO: 3 1537\n",
      "CO: 4 1254\n",
      "CO: 5 1534\n",
      "CO: 6 1902\n"
     ]
    }
   ],
   "source": [
    "feats = {}\n",
    "for col in test_cols1:\n",
    "    feats[col] = feat_imp(train1,test1,col)\n",
    "for col in test_cols2:\n",
    "    feats[col] = feat_imp(train2,test2,col)"
   ]
  },
  {
   "cell_type": "code",
   "execution_count": 7,
   "metadata": {},
   "outputs": [],
   "source": [
    "default_model = SVC()\n",
    "def pred(train,test,col,model=default_model):\n",
    "    \n",
    "#     print(train.iloc[:,list(feats)].shape)\n",
    "    \n",
    "    X = train.iloc[:,list(feats[col])].drop(test_cols, axis=1, errors='ignore')\n",
    "    #X = train.drop(test_cols, axis=1, errors='ignore')\n",
    "    \n",
    "    y = np.array(train[[col]])\n",
    "    y = y.reshape(y.shape[0],)\n",
    "    Xtest = test.iloc[:,list(feats[col])].drop(test_cols, axis=1, errors='ignore')\n",
    "    #Xtest = test.drop(test_cols, axis=1, errors='ignore')\n",
    "    \n",
    "\n",
    "    if(VALIDATION): \n",
    "        ytest = test[[col]]\n",
    "        ytrue.extend(list(ytest[col]))\n",
    "\n",
    "    scaler = preprocessing.StandardScaler()\n",
    "    scaledX = scaler.fit_transform(X)\n",
    "    \n",
    "    scaledXtest = scaler.transform(Xtest)\n",
    "    \n",
    "#     model = XGBClassifier()\n",
    "    model.fit(scaledX,y)\n",
    "      \n",
    "    ypred.extend(model.predict(scaledXtest))   \n",
    "\n",
    "    if(VALIDATION): print(col,matthews_corrcoef(ytest,model.predict(scaledXtest)),accuracy_score(ytest,model.predict(scaledXtest)))\n",
    "    else: print(col)\n",
    "        \n",
    "    if VALIDATION: return matthews_corrcoef(ytest,model.predict(scaledXtest))\n",
    "    else: return"
   ]
  },
  {
   "cell_type": "code",
   "execution_count": 8,
   "metadata": {},
   "outputs": [
    {
     "name": "stdout",
     "output_type": "stream",
     "text": [
      "CO: 1 0.12969963148830185 0.7435897435897436\n"
     ]
    },
    {
     "data": {
      "text/plain": [
       "0.12969963148830185"
      ]
     },
     "execution_count": 8,
     "metadata": {},
     "output_type": "execute_result"
    }
   ],
   "source": [
    "ypred = []\n",
    "ytrue = []\n",
    "best_params = []\n",
    "#pred(train1,test1,'CO: 1',params=random_grid)\n",
    "pred(train1,test1,'CO: 1')"
   ]
  },
  {
   "cell_type": "code",
   "execution_count": 9,
   "metadata": {},
   "outputs": [
    {
     "name": "stdout",
     "output_type": "stream",
     "text": [
      "CO: 2 0.10309826235529031 0.5641025641025641\n"
     ]
    },
    {
     "data": {
      "text/plain": [
       "0.10309826235529031"
      ]
     },
     "execution_count": 9,
     "metadata": {},
     "output_type": "execute_result"
    }
   ],
   "source": [
    "#pred(train1,test1,'CO: 2',params=random_grid)\n",
    "pred(train1,test1,'CO: 2')"
   ]
  },
  {
   "cell_type": "code",
   "execution_count": 10,
   "metadata": {},
   "outputs": [
    {
     "name": "stdout",
     "output_type": "stream",
     "text": [
      "CO: 3 0.15301409312053074 0.8058252427184466\n"
     ]
    },
    {
     "data": {
      "text/plain": [
       "0.15301409312053074"
      ]
     },
     "execution_count": 10,
     "metadata": {},
     "output_type": "execute_result"
    }
   ],
   "source": [
    "#pred(train2,test2,'CO: 3',params=random_grid)\n",
    "pred(train2,test2,'CO: 3')"
   ]
  },
  {
   "cell_type": "code",
   "execution_count": 11,
   "metadata": {},
   "outputs": [
    {
     "name": "stdout",
     "output_type": "stream",
     "text": [
      "CO: 4 0.0 0.8737864077669902\n"
     ]
    },
    {
     "data": {
      "text/plain": [
       "0.0"
      ]
     },
     "execution_count": 11,
     "metadata": {},
     "output_type": "execute_result"
    }
   ],
   "source": [
    "#pred(train2,test2,'CO: 4',params=random_grid)\n",
    "pred(train2,test2,'CO: 4')"
   ]
  },
  {
   "cell_type": "code",
   "execution_count": 12,
   "metadata": {},
   "outputs": [
    {
     "name": "stdout",
     "output_type": "stream",
     "text": [
      "CO: 5 0.5300165593559218 0.7475728155339806\n"
     ]
    },
    {
     "data": {
      "text/plain": [
       "0.5300165593559218"
      ]
     },
     "execution_count": 12,
     "metadata": {},
     "output_type": "execute_result"
    }
   ],
   "source": [
    "#pred(train2,test2,'CO: 5',params=random_grid)\n",
    "pred(train2,test2,'CO: 5')"
   ]
  },
  {
   "cell_type": "code",
   "execution_count": 13,
   "metadata": {},
   "outputs": [
    {
     "name": "stdout",
     "output_type": "stream",
     "text": [
      "CO: 6 0.23319921927262705 0.6893203883495146\n"
     ]
    },
    {
     "data": {
      "text/plain": [
       "0.23319921927262705"
      ]
     },
     "execution_count": 13,
     "metadata": {},
     "output_type": "execute_result"
    }
   ],
   "source": [
    "#pred(train2,test2,'CO: 6',params=random_grid)\n",
    "pred(train2,test2,'CO: 6')"
   ]
  },
  {
   "cell_type": "code",
   "execution_count": 14,
   "metadata": {},
   "outputs": [],
   "source": [
    "# if(VALIDATION):\n",
    "#     print(matthews_corrcoef(ytrue,ypred))\n",
    "# else:\n",
    "# #     submission = pd.DataFrame(ypred,columns=['Predicted'])\n",
    "# #     submission.index.name = 'Id'\n",
    "#     submission = pd.read_csv('dummy_submission.csv')\n",
    "#     submission.Predicted = np.array(ypred,dtype=int)\n",
    "#     submission.to_csv('IGiveUp.csv',index=False)\n",
    "#     print(submission.shape)"
   ]
  },
  {
   "cell_type": "code",
   "execution_count": 15,
   "metadata": {},
   "outputs": [],
   "source": [
    "# models = [\n",
    "#     KNeighborsClassifier(3),\n",
    "#     SVC(random_state=0),\n",
    "#     SVC(kernel=\"linear\", C=0.025,random_state=0),\n",
    "# #     GaussianProcessClassifier(random_state=0),\n",
    "#     DecisionTreeClassifier(random_state=0),\n",
    "#     RandomForestClassifier(random_state=0),\n",
    "#     AdaBoostClassifier(random_state=0),\n",
    "#     GaussianNB(),\n",
    "#     BernoulliNB(),\n",
    "# #     MultinomialNB(),\n",
    "# #     QuadraticDiscriminantAnalysis(),\n",
    "    \n",
    "#     LogisticRegression(solver='liblinear',penalty='l1',random_state=0),\n",
    "#     LogisticRegression(random_state=0),\n",
    "#     XGBClassifier(random_state=0),\n",
    "# ]\n",
    "\n",
    "# names = [\n",
    "#     'KNeighborsClassifier(3)',\n",
    "#     'SVC(random_state=0)',\n",
    "#     'SVC(kernel=\"linear\", C=0.025,random_state=0)',\n",
    "# #     GaussianProcessClassifier(random_state=0),\n",
    "#     'DecisionTreeClassifier(random_state=0)',\n",
    "#     'RandomForestClassifier(random_state=0)',\n",
    "#     'AdaBoostClassifier(random_state=0)',\n",
    "#     'GaussianNB()',\n",
    "#     'BernoulliNB()',\n",
    "# #     'MultinomialNB()',\n",
    "# #     QuadraticDiscriminantAnalysis(),\n",
    "    \n",
    "#     'LogisticRegression(solver=\"liblinear\",penalty=\"l1\",random_state=0)',\n",
    "#     'LogisticRegression(random_state=0)',\n",
    "#     'XGBClassifier(random_state=0)',\n",
    "# ]\n",
    "\n",
    "# df = pd.DataFrame({'model':[],'1':[],'2':[],'3':[],'4':[],'5':[],'6':[],'total':[]})\n",
    "\n",
    "# for i in range(len(models)):\n",
    "#     model = models[i]\n",
    "#     name = names[i]\n",
    "#     print(model)\n",
    "#     ytrue = []\n",
    "#     ypred = []\n",
    "    \n",
    "#     m1 = pred(train1,test1,'CO: 1',model)\n",
    "#     m2 = pred(train1,test1,'CO: 2',model)\n",
    "\n",
    "#     m3 = pred(train2,test2,'CO: 3',model)\n",
    "#     m4 = pred(train2,test2,'CO: 4',model)\n",
    "#     m5 = pred(train2,test2,'CO: 5',model)\n",
    "#     m6 = pred(train2,test2,'CO: 6',model)\n",
    "    \n",
    "#     tot = matthews_corrcoef(ytrue,ypred)\n",
    "#     print(tot)\n",
    "    \n",
    "#     df.loc[len(df)] = [name,m1,m2,m3,m4,m5,m6,tot]\n",
    "    \n",
    "# df"
   ]
  },
  {
   "cell_type": "code",
   "execution_count": 16,
   "metadata": {},
   "outputs": [
    {
     "name": "stdout",
     "output_type": "stream",
     "text": [
      "CO: 1 0.3752393871932282 0.7692307692307693\n",
      "CO: 2 0.3273268353539886 0.6666666666666666\n",
      "CO: 3 0.25920549480721095 0.7669902912621359\n",
      "CO: 4 0.2605250528594531 0.883495145631068\n",
      "CO: 5 0.8243560325647531 0.912621359223301\n",
      "CO: 6 0.17798193287014294 0.6699029126213593\n",
      "0.5610497043083994\n"
     ]
    }
   ],
   "source": [
    "ytrue = []\n",
    "ypred = []\n",
    "m1 = pred(train1,test1,'CO: 1',BernoulliNB())\n",
    "m2 = pred(train1,test1,'CO: 2',GaussianNB())\n",
    "\n",
    "m3 = pred(train2,test2,'CO: 3',LogisticRegression(random_state=0))\n",
    "m4 = pred(train2,test2,'CO: 4',RandomForestClassifier(random_state=0))\n",
    "\n",
    "# m1 = pred(train1,test1,'CO: 1',RandomForestClassifier(random_state=0))\n",
    "# m2 = pred(train1,test1,'CO: 2',RandomForestClassifier(random_state=0))\n",
    "\n",
    "# m3 = pred(train2,test2,'CO: 3',RandomForestClassifier(random_state=0))\n",
    "# m4 = pred(train2,test2,'CO: 4',RandomForestClassifier(random_state=0))\n",
    "\n",
    "m5 = pred(train2,test2,'CO: 5',RandomForestClassifier(random_state=0))\n",
    "m6 = pred(train2,test2,'CO: 6',RandomForestClassifier(random_state=0))\n",
    "\n",
    "if VALIDATION:\n",
    "    tot = matthews_corrcoef(ytrue,ypred)\n",
    "    print(tot)\n",
    "else:\n",
    "    submission = pd.read_csv('dummy_submission.csv')\n",
    "    submission.Predicted = np.array(ypred,dtype=int)\n",
    "    submission.to_csv('BGLRRR.csv',index=False)\n",
    "    print(submission.shape)"
   ]
  },
  {
   "cell_type": "code",
   "execution_count": null,
   "metadata": {},
   "outputs": [],
   "source": []
  }
 ],
 "metadata": {
  "kernelspec": {
   "display_name": "Python 3",
   "language": "python",
   "name": "python3"
  },
  "language_info": {
   "codemirror_mode": {
    "name": "ipython",
    "version": 3
   },
   "file_extension": ".py",
   "mimetype": "text/x-python",
   "name": "python",
   "nbconvert_exporter": "python",
   "pygments_lexer": "ipython3",
   "version": "3.8.5"
  }
 },
 "nbformat": 4,
 "nbformat_minor": 4
}
