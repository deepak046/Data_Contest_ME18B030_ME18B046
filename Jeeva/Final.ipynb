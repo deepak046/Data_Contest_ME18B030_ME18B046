{
 "cells": [
  {
   "cell_type": "code",
   "execution_count": 1,
   "metadata": {},
   "outputs": [],
   "source": [
    "import pandas as pd\n",
    "import numpy as np\n",
    "\n",
    "from sklearn.ensemble import RandomForestClassifier, AdaBoostClassifier\n",
    "from sklearn.linear_model import LogisticRegression\n",
    "from sklearn.neighbors import KNeighborsClassifier\n",
    "from sklearn.tree import DecisionTreeClassifier\n",
    "from sklearn.svm import SVC\n",
    "from sklearn.naive_bayes import GaussianNB\n",
    "from sklearn.discriminant_analysis import QuadraticDiscriminantAnalysis\n",
    "from sklearn.gaussian_process import GaussianProcessClassifier\n",
    "from sklearn.gaussian_process.kernels import RBF\n",
    "\n",
    "from sklearn import preprocessing\n",
    "from sklearn.model_selection import train_test_split, KFold, GridSearchCV, ShuffleSplit, StratifiedShuffleSplit\n",
    "from sklearn.metrics import matthews_corrcoef, accuracy_score, make_scorer\n",
    "from sklearn.utils import resample\n",
    "from sklearn.decomposition import PCA, KernelPCA\n",
    "from sklearn.feature_selection import VarianceThreshold, SelectPercentile, SelectKBest, chi2\n",
    "\n",
    "from xgboost import XGBClassifier\n",
    "\n",
    "import matplotlib.pyplot as plt\n",
    "\n",
    "import warnings\n",
    "warnings.filterwarnings('ignore') "
   ]
  },
  {
   "cell_type": "code",
   "execution_count": 2,
   "metadata": {},
   "outputs": [],
   "source": [
    "VALIDATION = True\n",
    "\n",
    "train1_df = pd.read_csv(f'PRML_Datacontest_MKN_JUL_2021/Dataset_1_Training.csv',index_col=0).T\n",
    "train2_df = pd.read_csv(f'PRML_Datacontest_MKN_JUL_2021/Dataset_2_Training.csv',index_col=0).T\n",
    "\n",
    "test1_df = pd.read_csv(f'PRML_Datacontest_MKN_JUL_2021/Dataset_1_Testing.csv',index_col=0).T\n",
    "test2_df = pd.read_csv(f'PRML_Datacontest_MKN_JUL_2021/Dataset_2_Testing.csv',index_col=0).T\n",
    "\n",
    "train1 = train1_df\n",
    "train2 = train2_df\n",
    "test1 = test1_df\n",
    "test2 = test2_df\n",
    "\n",
    "if(VALIDATION):\n",
    "    #Shuffling the dataset\n",
    "    valSize = int(train1.shape[0]*0.7)\n",
    "    train1 = train1.sample(frac=1).reset_index(drop=True)\n",
    "    test1 = train1[valSize:]\n",
    "    train1 = train1[:valSize]\n",
    "    \n",
    "    valSize = int(train2.shape[0]*0.7)\n",
    "    train2 = train2.sample(frac=1).reset_index(drop=True)\n",
    "    test2 = train2[valSize:]\n",
    "    train2 = train2[:valSize]"
   ]
  },
  {
   "cell_type": "code",
   "execution_count": 3,
   "metadata": {},
   "outputs": [
    {
     "name": "stdout",
     "output_type": "stream",
     "text": [
      "(91, 22285)\n",
      "(39, 22285)\n",
      "(237, 54679)\n",
      "(103, 54679)\n"
     ]
    }
   ],
   "source": [
    "print(train1.shape)\n",
    "print(test1.shape)\n",
    "print(train2.shape)\n",
    "print(test2.shape)"
   ]
  },
  {
   "cell_type": "code",
   "execution_count": 4,
   "metadata": {},
   "outputs": [],
   "source": [
    "test_cols1 = ['CO: 1','CO: 2']\n",
    "test_cols2 = ['CO: 3','CO: 4','CO: 5','CO: 6']\n",
    "test_cols = ['CO: 1','CO: 2','CO: 3','CO: 4','CO: 5','CO: 6']"
   ]
  },
  {
   "cell_type": "code",
   "execution_count": 5,
   "metadata": {},
   "outputs": [],
   "source": [
    "models = [RandomForestClassifier(n_jobs=-1, random_state=0),\n",
    "          DecisionTreeClassifier(random_state=0),]\n",
    "#           AdaBoostClassifier(random_state=0),]\n",
    "\n",
    "\n",
    "def feat_imp(train,test,col):\n",
    "    X = train.drop(test_cols, axis=1, errors='ignore')\n",
    "    y = np.array(train[[col]])\n",
    "    y = y.reshape(y.shape[0],)\n",
    "    Xtest = test.drop(test_cols, axis=1, errors='ignore')\n",
    "    \n",
    "    scaler = preprocessing.StandardScaler()\n",
    "    scaledX = scaler.fit_transform(X)\n",
    "    \n",
    "    scaledXtest = scaler.transform(Xtest)\n",
    "    \n",
    "    feat_set = set()\n",
    "    \n",
    "    for model in models:\n",
    "        model.fit(X,y)\n",
    "        feat_set.update(model.feature_importances_.nonzero()[0])\n",
    "    \n",
    "    print(col,len(feat_set))\n",
    "    return feat_set"
   ]
  },
  {
   "cell_type": "code",
   "execution_count": 6,
   "metadata": {},
   "outputs": [
    {
     "name": "stdout",
     "output_type": "stream",
     "text": [
      "CO: 1 633\n",
      "CO: 2 702\n",
      "CO: 3 1559\n",
      "CO: 4 1247\n",
      "CO: 5 1607\n",
      "CO: 6 1834\n"
     ]
    }
   ],
   "source": [
    "feats = {}\n",
    "for col in test_cols1:\n",
    "    feats[col] = feat_imp(train1,test1,col)\n",
    "for col in test_cols2:\n",
    "    feats[col] = feat_imp(train2,test2,col)"
   ]
  },
  {
   "cell_type": "code",
   "execution_count": 7,
   "metadata": {},
   "outputs": [],
   "source": [
    "default_model = SVC()\n",
    "def pred(train,test,col,model=default_model):\n",
    "    \n",
    "#     print(train.iloc[:,list(feats)].shape)\n",
    "    \n",
    "    X = train.iloc[:,list(feats[col])].drop(test_cols, axis=1, errors='ignore')\n",
    "    y = np.array(train[[col]])\n",
    "    y = y.reshape(y.shape[0],)\n",
    "    Xtest = test.iloc[:,list(feats[col])].drop(test_cols, axis=1, errors='ignore')\n",
    "\n",
    "    if(VALIDATION): \n",
    "        ytest = test[[col]]\n",
    "        ytrue.extend(list(ytest[col]))\n",
    "\n",
    "    scaler = preprocessing.StandardScaler()\n",
    "    scaledX = scaler.fit_transform(X)\n",
    "    \n",
    "    scaledXtest = scaler.transform(Xtest)\n",
    "    \n",
    "#     model = XGBClassifier()\n",
    "    model.fit(scaledX,y)\n",
    "      \n",
    "    ypred.extend(model.predict(scaledXtest))   \n",
    "\n",
    "    if(VALIDATION): print(col,matthews_corrcoef(ytest,model.predict(scaledXtest)),accuracy_score(ytest,model.predict(scaledXtest)))\n",
    "    else: print(col)\n",
    "        \n",
    "    return matthews_corrcoef(ytest,model.predict(scaledXtest))"
   ]
  },
  {
   "cell_type": "code",
   "execution_count": 8,
   "metadata": {},
   "outputs": [
    {
     "name": "stdout",
     "output_type": "stream",
     "text": [
      "CO: 1 0.31137995761748233 0.7948717948717948\n"
     ]
    },
    {
     "data": {
      "text/plain": [
       "0.31137995761748233"
      ]
     },
     "execution_count": 8,
     "metadata": {},
     "output_type": "execute_result"
    }
   ],
   "source": [
    "ypred = []\n",
    "ytrue = []\n",
    "best_params = []\n",
    "#pred(train1,test1,'CO: 1',params=random_grid)\n",
    "pred(train1,test1,'CO: 1')"
   ]
  },
  {
   "cell_type": "code",
   "execution_count": 9,
   "metadata": {},
   "outputs": [
    {
     "name": "stdout",
     "output_type": "stream",
     "text": [
      "CO: 2 0.4258672210719905 0.6666666666666666\n"
     ]
    },
    {
     "data": {
      "text/plain": [
       "0.4258672210719905"
      ]
     },
     "execution_count": 9,
     "metadata": {},
     "output_type": "execute_result"
    }
   ],
   "source": [
    "#pred(train1,test1,'CO: 2',params=random_grid)\n",
    "pred(train1,test1,'CO: 2')"
   ]
  },
  {
   "cell_type": "code",
   "execution_count": 10,
   "metadata": {},
   "outputs": [
    {
     "name": "stdout",
     "output_type": "stream",
     "text": [
      "CO: 3 0.17039568891083096 0.7572815533980582\n"
     ]
    },
    {
     "data": {
      "text/plain": [
       "0.17039568891083096"
      ]
     },
     "execution_count": 10,
     "metadata": {},
     "output_type": "execute_result"
    }
   ],
   "source": [
    "#pred(train2,test2,'CO: 3',params=random_grid)\n",
    "pred(train2,test2,'CO: 3')"
   ]
  },
  {
   "cell_type": "code",
   "execution_count": 11,
   "metadata": {},
   "outputs": [
    {
     "name": "stdout",
     "output_type": "stream",
     "text": [
      "CO: 4 0.0 0.8640776699029126\n"
     ]
    },
    {
     "data": {
      "text/plain": [
       "0.0"
      ]
     },
     "execution_count": 11,
     "metadata": {},
     "output_type": "execute_result"
    }
   ],
   "source": [
    "#pred(train2,test2,'CO: 4',params=random_grid)\n",
    "pred(train2,test2,'CO: 4')"
   ]
  },
  {
   "cell_type": "code",
   "execution_count": 12,
   "metadata": {},
   "outputs": [
    {
     "name": "stdout",
     "output_type": "stream",
     "text": [
      "CO: 5 0.648991593536552 0.8252427184466019\n"
     ]
    },
    {
     "data": {
      "text/plain": [
       "0.648991593536552"
      ]
     },
     "execution_count": 12,
     "metadata": {},
     "output_type": "execute_result"
    }
   ],
   "source": [
    "#pred(train2,test2,'CO: 5',params=random_grid)\n",
    "pred(train2,test2,'CO: 5')"
   ]
  },
  {
   "cell_type": "code",
   "execution_count": 13,
   "metadata": {},
   "outputs": [
    {
     "name": "stdout",
     "output_type": "stream",
     "text": [
      "CO: 6 0.07667114370239701 0.5631067961165048\n"
     ]
    },
    {
     "data": {
      "text/plain": [
       "0.07667114370239701"
      ]
     },
     "execution_count": 13,
     "metadata": {},
     "output_type": "execute_result"
    }
   ],
   "source": [
    "#pred(train2,test2,'CO: 6',params=random_grid)\n",
    "pred(train2,test2,'CO: 6')"
   ]
  },
  {
   "cell_type": "code",
   "execution_count": 14,
   "metadata": {},
   "outputs": [
    {
     "name": "stdout",
     "output_type": "stream",
     "text": [
      "0.4423164051628146\n"
     ]
    }
   ],
   "source": [
    "if(VALIDATION):\n",
    "    print(matthews_corrcoef(ytrue,ypred))\n",
    "else:\n",
    "#     submission = pd.DataFrame(ypred,columns=['Predicted'])\n",
    "#     submission.index.name = 'Id'\n",
    "    submission = pd.read_csv('dummy_submission.csv')\n",
    "    submission.Predicted = np.array(ypred,dtype=int)\n",
    "    submission.to_csv('IGiveUp.csv',index=False)\n",
    "    print(submission.shape)"
   ]
  },
  {
   "cell_type": "code",
   "execution_count": 15,
   "metadata": {},
   "outputs": [
    {
     "name": "stdout",
     "output_type": "stream",
     "text": [
      "KNeighborsClassifier(n_neighbors=3)\n",
      "CO: 1 0.4753323681541725 0.8205128205128205\n",
      "CO: 2 0.4147575310031266 0.6923076923076923\n",
      "CO: 3 0.11455671257489745 0.7475728155339806\n",
      "CO: 4 0.0 0.8640776699029126\n",
      "CO: 5 0.39570075607600547 0.7087378640776699\n",
      "CO: 6 -0.13462409458259064 0.47572815533980584\n",
      "0.3322417128093336\n",
      "SVC(random_state=0)\n",
      "CO: 1 0.31137995761748233 0.7948717948717948\n",
      "CO: 2 0.4258672210719905 0.6666666666666666\n",
      "CO: 3 0.17039568891083096 0.7572815533980582\n",
      "CO: 4 0.0 0.8640776699029126\n",
      "CO: 5 0.648991593536552 0.8252427184466019\n",
      "CO: 6 0.07667114370239701 0.5631067961165048\n",
      "0.4423164051628146\n",
      "SVC(C=0.025, kernel='linear', random_state=0)\n",
      "CO: 1 0.13538259026847058 0.7435897435897436\n",
      "CO: 2 0.23809523809523808 0.6153846153846154\n",
      "CO: 3 0.33033552678742245 0.7766990291262136\n",
      "CO: 4 0.06691003295964197 0.8446601941747572\n",
      "CO: 5 0.7062141420904177 0.8543689320388349\n",
      "CO: 6 0.04552946561764083 0.5436893203883495\n",
      "0.42796241597638196\n",
      "DecisionTreeClassifier(random_state=0)\n",
      "CO: 1 0.3246172270321178 0.7692307692307693\n",
      "CO: 2 0.28496141408758663 0.6410256410256411\n",
      "CO: 3 -0.0027427354746755415 0.6504854368932039\n",
      "CO: 4 -0.10002327286810325 0.7184466019417476\n",
      "CO: 5 0.5528675770753806 0.7766990291262136\n",
      "CO: 6 0.10397836938821332 0.5631067961165048\n",
      "0.30528481896544657\n",
      "RandomForestClassifier(random_state=0)\n",
      "CO: 1 0.37500790630501557 0.8205128205128205\n",
      "CO: 2 0.351689974226665 0.6410256410256411\n",
      "CO: 3 0.16516472770960292 0.7572815533980582\n",
      "CO: 4 0.0 0.8640776699029126\n",
      "CO: 5 0.7210936562051496 0.8446601941747572\n",
      "CO: 6 0.03522125864127726 0.5533980582524272\n",
      "0.4505514705882353\n",
      "AdaBoostClassifier(random_state=0)\n",
      "CO: 1 0.13538259026847058 0.7435897435897436\n",
      "CO: 2 0.04021809075548668 0.5128205128205128\n",
      "CO: 3 0.29985846233497304 0.7572815533980582\n",
      "CO: 4 0.04223348100512747 0.8349514563106796\n",
      "CO: 5 0.7493664053664923 0.8737864077669902\n",
      "CO: 6 -0.12111674244844953 0.46601941747572817\n",
      "0.3714232020958892\n",
      "GaussianNB()\n",
      "CO: 1 0.4753323681541725 0.8205128205128205\n",
      "CO: 2 0.2952169423244472 0.6410256410256411\n",
      "CO: 3 0.22366964572270595 0.6796116504854369\n",
      "CO: 4 0.2991696842159569 0.8252427184466019\n",
      "CO: 5 0.6261253926712902 0.8058252427184466\n",
      "CO: 6 0.1845029712452507 0.6019417475728155\n",
      "0.421551005461987\n",
      "LogisticRegression(penalty='l1', random_state=0, solver='liblinear')\n",
      "CO: 1 0.25880936394643733 0.7692307692307693\n",
      "CO: 2 0.545544725589981 0.7435897435897436\n",
      "CO: 3 0.16675831686027293 0.7087378640776699\n",
      "CO: 4 0.04223348100512747 0.8349514563106796\n",
      "CO: 5 0.763903695431568 0.883495145631068\n",
      "CO: 6 0.19728317767352443 0.6116504854368932\n",
      "0.4671158286305483\n",
      "LogisticRegression(random_state=0)\n",
      "CO: 1 0.25880936394643733 0.7692307692307693\n",
      "CO: 2 0.2639315516295432 0.6153846153846154\n",
      "CO: 3 0.30560958007364325 0.7766990291262136\n",
      "CO: 4 0.17405313383931323 0.8543689320388349\n",
      "CO: 5 0.7276803918111427 0.8640776699029126\n",
      "CO: 6 -0.01835404067359749 0.5242718446601942\n",
      "0.4347423662702878\n",
      "XGBClassifier(base_score=None, booster=None, colsample_bylevel=None,\n",
      "              colsample_bynode=None, colsample_bytree=None, gamma=None,\n",
      "              gpu_id=None, importance_type='gain', interaction_constraints=None,\n",
      "              learning_rate=None, max_delta_step=None, max_depth=None,\n",
      "              min_child_weight=None, missing=nan, monotone_constraints=None,\n",
      "              n_estimators=100, n_jobs=None, num_parallel_tree=None,\n",
      "              random_state=0, reg_alpha=None, reg_lambda=None,\n",
      "              scale_pos_weight=None, subsample=None, tree_method=None,\n",
      "              validate_parameters=None, verbosity=None)\n",
      "CO: 1 0.31137995761748233 0.7948717948717948\n",
      "CO: 2 0.45848623461254817 0.717948717948718\n",
      "CO: 3 0.2488854697959606 0.7669902912621359\n",
      "CO: 4 0.14949496213123928 0.8640776699029126\n",
      "CO: 5 0.8159763347461333 0.9029126213592233\n",
      "CO: 6 0.059202278421510615 0.5533980582524272\n",
      "0.48637178162114153\n"
     ]
    },
    {
     "data": {
      "text/html": [
       "<div>\n",
       "<style scoped>\n",
       "    .dataframe tbody tr th:only-of-type {\n",
       "        vertical-align: middle;\n",
       "    }\n",
       "\n",
       "    .dataframe tbody tr th {\n",
       "        vertical-align: top;\n",
       "    }\n",
       "\n",
       "    .dataframe thead th {\n",
       "        text-align: right;\n",
       "    }\n",
       "</style>\n",
       "<table border=\"1\" class=\"dataframe\">\n",
       "  <thead>\n",
       "    <tr style=\"text-align: right;\">\n",
       "      <th></th>\n",
       "      <th>model</th>\n",
       "      <th>1</th>\n",
       "      <th>2</th>\n",
       "      <th>3</th>\n",
       "      <th>4</th>\n",
       "      <th>5</th>\n",
       "      <th>6</th>\n",
       "      <th>total</th>\n",
       "    </tr>\n",
       "  </thead>\n",
       "  <tbody>\n",
       "    <tr>\n",
       "      <th>0</th>\n",
       "      <td>KNeighborsClassifier(3)</td>\n",
       "      <td>0.475332</td>\n",
       "      <td>0.414758</td>\n",
       "      <td>0.114557</td>\n",
       "      <td>0.000000</td>\n",
       "      <td>0.395701</td>\n",
       "      <td>-0.134624</td>\n",
       "      <td>0.332242</td>\n",
       "    </tr>\n",
       "    <tr>\n",
       "      <th>1</th>\n",
       "      <td>SVC(random_state=0)</td>\n",
       "      <td>0.311380</td>\n",
       "      <td>0.425867</td>\n",
       "      <td>0.170396</td>\n",
       "      <td>0.000000</td>\n",
       "      <td>0.648992</td>\n",
       "      <td>0.076671</td>\n",
       "      <td>0.442316</td>\n",
       "    </tr>\n",
       "    <tr>\n",
       "      <th>2</th>\n",
       "      <td>SVC(kernel=\"linear\", C=0.025,random_state=0)</td>\n",
       "      <td>0.135383</td>\n",
       "      <td>0.238095</td>\n",
       "      <td>0.330336</td>\n",
       "      <td>0.066910</td>\n",
       "      <td>0.706214</td>\n",
       "      <td>0.045529</td>\n",
       "      <td>0.427962</td>\n",
       "    </tr>\n",
       "    <tr>\n",
       "      <th>3</th>\n",
       "      <td>DecisionTreeClassifier(random_state=0)</td>\n",
       "      <td>0.324617</td>\n",
       "      <td>0.284961</td>\n",
       "      <td>-0.002743</td>\n",
       "      <td>-0.100023</td>\n",
       "      <td>0.552868</td>\n",
       "      <td>0.103978</td>\n",
       "      <td>0.305285</td>\n",
       "    </tr>\n",
       "    <tr>\n",
       "      <th>4</th>\n",
       "      <td>RandomForestClassifier(random_state=0)</td>\n",
       "      <td>0.375008</td>\n",
       "      <td>0.351690</td>\n",
       "      <td>0.165165</td>\n",
       "      <td>0.000000</td>\n",
       "      <td>0.721094</td>\n",
       "      <td>0.035221</td>\n",
       "      <td>0.450551</td>\n",
       "    </tr>\n",
       "    <tr>\n",
       "      <th>5</th>\n",
       "      <td>AdaBoostClassifier(random_state=0)</td>\n",
       "      <td>0.135383</td>\n",
       "      <td>0.040218</td>\n",
       "      <td>0.299858</td>\n",
       "      <td>0.042233</td>\n",
       "      <td>0.749366</td>\n",
       "      <td>-0.121117</td>\n",
       "      <td>0.371423</td>\n",
       "    </tr>\n",
       "    <tr>\n",
       "      <th>6</th>\n",
       "      <td>GaussianNB()</td>\n",
       "      <td>0.475332</td>\n",
       "      <td>0.295217</td>\n",
       "      <td>0.223670</td>\n",
       "      <td>0.299170</td>\n",
       "      <td>0.626125</td>\n",
       "      <td>0.184503</td>\n",
       "      <td>0.421551</td>\n",
       "    </tr>\n",
       "    <tr>\n",
       "      <th>7</th>\n",
       "      <td>LogisticRegression(solver=\"liblinear\",penalty=...</td>\n",
       "      <td>0.258809</td>\n",
       "      <td>0.545545</td>\n",
       "      <td>0.166758</td>\n",
       "      <td>0.042233</td>\n",
       "      <td>0.763904</td>\n",
       "      <td>0.197283</td>\n",
       "      <td>0.467116</td>\n",
       "    </tr>\n",
       "    <tr>\n",
       "      <th>8</th>\n",
       "      <td>LogisticRegression(random_state=0)</td>\n",
       "      <td>0.258809</td>\n",
       "      <td>0.263932</td>\n",
       "      <td>0.305610</td>\n",
       "      <td>0.174053</td>\n",
       "      <td>0.727680</td>\n",
       "      <td>-0.018354</td>\n",
       "      <td>0.434742</td>\n",
       "    </tr>\n",
       "    <tr>\n",
       "      <th>9</th>\n",
       "      <td>XGBClassifier(random_state=0)</td>\n",
       "      <td>0.311380</td>\n",
       "      <td>0.458486</td>\n",
       "      <td>0.248885</td>\n",
       "      <td>0.149495</td>\n",
       "      <td>0.815976</td>\n",
       "      <td>0.059202</td>\n",
       "      <td>0.486372</td>\n",
       "    </tr>\n",
       "  </tbody>\n",
       "</table>\n",
       "</div>"
      ],
      "text/plain": [
       "                                               model         1         2  \\\n",
       "0                            KNeighborsClassifier(3)  0.475332  0.414758   \n",
       "1                                SVC(random_state=0)  0.311380  0.425867   \n",
       "2       SVC(kernel=\"linear\", C=0.025,random_state=0)  0.135383  0.238095   \n",
       "3             DecisionTreeClassifier(random_state=0)  0.324617  0.284961   \n",
       "4             RandomForestClassifier(random_state=0)  0.375008  0.351690   \n",
       "5                 AdaBoostClassifier(random_state=0)  0.135383  0.040218   \n",
       "6                                       GaussianNB()  0.475332  0.295217   \n",
       "7  LogisticRegression(solver=\"liblinear\",penalty=...  0.258809  0.545545   \n",
       "8                 LogisticRegression(random_state=0)  0.258809  0.263932   \n",
       "9                      XGBClassifier(random_state=0)  0.311380  0.458486   \n",
       "\n",
       "          3         4         5         6     total  \n",
       "0  0.114557  0.000000  0.395701 -0.134624  0.332242  \n",
       "1  0.170396  0.000000  0.648992  0.076671  0.442316  \n",
       "2  0.330336  0.066910  0.706214  0.045529  0.427962  \n",
       "3 -0.002743 -0.100023  0.552868  0.103978  0.305285  \n",
       "4  0.165165  0.000000  0.721094  0.035221  0.450551  \n",
       "5  0.299858  0.042233  0.749366 -0.121117  0.371423  \n",
       "6  0.223670  0.299170  0.626125  0.184503  0.421551  \n",
       "7  0.166758  0.042233  0.763904  0.197283  0.467116  \n",
       "8  0.305610  0.174053  0.727680 -0.018354  0.434742  \n",
       "9  0.248885  0.149495  0.815976  0.059202  0.486372  "
      ]
     },
     "execution_count": 15,
     "metadata": {},
     "output_type": "execute_result"
    }
   ],
   "source": [
    "# models = [RandomForestClassifier(n_estimators=750, n_jobs=-1, random_state=0),\n",
    "#           AdaBoostClassifier(random_state=0),\n",
    "#           DecisionTreeClassifier(random_state=0),\n",
    "#           LogisticRegression(solver='liblinear',penalty='l1'),\n",
    "#           SVC(),\n",
    "#           XGBClassifier()]\n",
    "\n",
    "models = [\n",
    "    KNeighborsClassifier(3),\n",
    "    SVC(random_state=0),\n",
    "    SVC(kernel=\"linear\", C=0.025,random_state=0),\n",
    "#     GaussianProcessClassifier(random_state=0),\n",
    "    DecisionTreeClassifier(random_state=0),\n",
    "    RandomForestClassifier(random_state=0),\n",
    "    AdaBoostClassifier(random_state=0),\n",
    "    GaussianNB(),\n",
    "#     QuadraticDiscriminantAnalysis(),\n",
    "    \n",
    "    LogisticRegression(solver='liblinear',penalty='l1',random_state=0),\n",
    "    LogisticRegression(random_state=0),\n",
    "    XGBClassifier(random_state=0),\n",
    "]\n",
    "\n",
    "names = [\n",
    "    'KNeighborsClassifier(3)',\n",
    "    'SVC(random_state=0)',\n",
    "    'SVC(kernel=\"linear\", C=0.025,random_state=0)',\n",
    "#     GaussianProcessClassifier(random_state=0),\n",
    "    'DecisionTreeClassifier(random_state=0)',\n",
    "    'RandomForestClassifier(random_state=0)',\n",
    "    'AdaBoostClassifier(random_state=0)',\n",
    "    'GaussianNB()',\n",
    "#     QuadraticDiscriminantAnalysis(),\n",
    "    \n",
    "    'LogisticRegression(solver=\"liblinear\",penalty=\"l1\",random_state=0)',\n",
    "    'LogisticRegression(random_state=0)',\n",
    "    'XGBClassifier(random_state=0)',\n",
    "]\n",
    "\n",
    "df = pd.DataFrame({'model':[],'1':[],'2':[],'3':[],'4':[],'5':[],'6':[],'total':[]})\n",
    "\n",
    "for i in range(len(models)):\n",
    "    model = models[i]\n",
    "    name = names[i]\n",
    "    print(model)\n",
    "    ytrue = []\n",
    "    ypred = []\n",
    "    \n",
    "    m1 = pred(train1,test1,'CO: 1',model)\n",
    "    m2 = pred(train1,test1,'CO: 2',model)\n",
    "\n",
    "    m3 = pred(train2,test2,'CO: 3',model)\n",
    "    m4 = pred(train2,test2,'CO: 4',model)\n",
    "    m5 = pred(train2,test2,'CO: 5',model)\n",
    "    m6 = pred(train2,test2,'CO: 6',model)\n",
    "    \n",
    "    tot = matthews_corrcoef(ytrue,ypred)\n",
    "    print(tot)\n",
    "    \n",
    "    df.loc[len(df)] = [name,m1,m2,m3,m4,m5,m6,tot]\n",
    "    \n",
    "df"
   ]
  },
  {
   "cell_type": "code",
   "execution_count": null,
   "metadata": {},
   "outputs": [],
   "source": []
  },
  {
   "cell_type": "code",
   "execution_count": null,
   "metadata": {},
   "outputs": [],
   "source": []
  }
 ],
 "metadata": {
  "kernelspec": {
   "display_name": "Python 3",
   "language": "python",
   "name": "python3"
  },
  "language_info": {
   "codemirror_mode": {
    "name": "ipython",
    "version": 3
   },
   "file_extension": ".py",
   "mimetype": "text/x-python",
   "name": "python",
   "nbconvert_exporter": "python",
   "pygments_lexer": "ipython3",
   "version": "3.8.5"
  }
 },
 "nbformat": 4,
 "nbformat_minor": 4
}
